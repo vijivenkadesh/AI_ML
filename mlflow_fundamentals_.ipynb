{
  "nbformat": 4,
  "nbformat_minor": 0,
  "metadata": {
    "colab": {
      "provenance": [],
      "authorship_tag": "ABX9TyMffGti6ByA829ps455ZEKw",
      "include_colab_link": true
    },
    "kernelspec": {
      "name": "python3",
      "display_name": "Python 3"
    },
    "language_info": {
      "name": "python"
    }
  },
  "cells": [
    {
      "cell_type": "markdown",
      "metadata": {
        "id": "view-in-github",
        "colab_type": "text"
      },
      "source": [
        "<a href=\"https://colab.research.google.com/github/vijivenkadesh/AI_ML/blob/main/mlflow_fundamentals_.ipynb\" target=\"_parent\"><img src=\"https://colab.research.google.com/assets/colab-badge.svg\" alt=\"Open In Colab\"/></a>"
      ]
    },
    {
      "cell_type": "code",
      "execution_count": null,
      "metadata": {
        "colab": {
          "base_uri": "https://localhost:8080/"
        },
        "id": "t5nTxA8Z-y3t",
        "outputId": "35222c5d-83da-4d40-9538-8a8276bc8af4"
      },
      "outputs": [
        {
          "output_type": "stream",
          "name": "stdout",
          "text": [
            "\u001b[2K     \u001b[90m━━━━━━━━━━━━━━━━━━━━━━━━━━━━━━━━━━━━━━━━\u001b[0m \u001b[32m19.7/19.7 MB\u001b[0m \u001b[31m54.8 MB/s\u001b[0m eta \u001b[36m0:00:00\u001b[0m\n",
            "\u001b[2K     \u001b[90m━━━━━━━━━━━━━━━━━━━━━━━━━━━━━━━━━━━━━━━━\u001b[0m \u001b[32m195.4/195.4 kB\u001b[0m \u001b[31m21.2 MB/s\u001b[0m eta \u001b[36m0:00:00\u001b[0m\n",
            "\u001b[2K     \u001b[90m━━━━━━━━━━━━━━━━━━━━━━━━━━━━━━━━━━━━━━━━\u001b[0m \u001b[32m233.4/233.4 kB\u001b[0m \u001b[31m27.0 MB/s\u001b[0m eta \u001b[36m0:00:00\u001b[0m\n",
            "\u001b[2K     \u001b[90m━━━━━━━━━━━━━━━━━━━━━━━━━━━━━━━━━━━━━━━━\u001b[0m \u001b[32m147.6/147.6 kB\u001b[0m \u001b[31m17.8 MB/s\u001b[0m eta \u001b[36m0:00:00\u001b[0m\n",
            "\u001b[2K     \u001b[90m━━━━━━━━━━━━━━━━━━━━━━━━━━━━━━━━━━━━━━━━\u001b[0m \u001b[32m128.2/128.2 kB\u001b[0m \u001b[31m15.9 MB/s\u001b[0m eta \u001b[36m0:00:00\u001b[0m\n",
            "\u001b[2K     \u001b[90m━━━━━━━━━━━━━━━━━━━━━━━━━━━━━━━━━━━━━━━━\u001b[0m \u001b[32m80.2/80.2 kB\u001b[0m \u001b[31m10.8 MB/s\u001b[0m eta \u001b[36m0:00:00\u001b[0m\n",
            "\u001b[2K     \u001b[90m━━━━━━━━━━━━━━━━━━━━━━━━━━━━━━━━━━━━━━━━\u001b[0m \u001b[32m78.7/78.7 kB\u001b[0m \u001b[31m9.5 MB/s\u001b[0m eta \u001b[36m0:00:00\u001b[0m\n",
            "\u001b[2K     \u001b[90m━━━━━━━━━━━━━━━━━━━━━━━━━━━━━━━━━━━━━━━━\u001b[0m \u001b[32m62.7/62.7 kB\u001b[0m \u001b[31m8.5 MB/s\u001b[0m eta \u001b[36m0:00:00\u001b[0m\n",
            "\u001b[2K     \u001b[90m━━━━━━━━━━━━━━━━━━━━━━━━━━━━━━━━━━━━━━━━\u001b[0m \u001b[32m202.9/202.9 kB\u001b[0m \u001b[31m22.5 MB/s\u001b[0m eta \u001b[36m0:00:00\u001b[0m\n",
            "\u001b[2K     \u001b[90m━━━━━━━━━━━━━━━━━━━━━━━━━━━━━━━━━━━━━━━━\u001b[0m \u001b[32m52.8/52.8 kB\u001b[0m \u001b[31m7.1 MB/s\u001b[0m eta \u001b[36m0:00:00\u001b[0m\n",
            "\u001b[?25h"
          ]
        }
      ],
      "source": [
        "!pip install mlflow --quiet"
      ]
    },
    {
      "cell_type": "code",
      "source": [
        "import mlflow"
      ],
      "metadata": {
        "id": "IT5D_Spr_gAC"
      },
      "execution_count": null,
      "outputs": []
    },
    {
      "cell_type": "code",
      "source": [
        "experiment = mlflow.create_experiment(name='test_1')"
      ],
      "metadata": {
        "id": "5W6A-FPo_i_m"
      },
      "execution_count": null,
      "outputs": []
    },
    {
      "cell_type": "code",
      "source": [
        "mlflow.get_experiment(experiment_id=experiment)"
      ],
      "metadata": {
        "colab": {
          "base_uri": "https://localhost:8080/"
        },
        "id": "hibN1cRL37T1",
        "outputId": "9149f16c-af51-44a0-9dfd-e1b0dc4664c3"
      },
      "execution_count": null,
      "outputs": [
        {
          "output_type": "execute_result",
          "data": {
            "text/plain": [
              "<Experiment: artifact_location='file:///content/mlruns/887541927159291913', creation_time=1710037049221, experiment_id='887541927159291913', last_update_time=1710037049221, lifecycle_stage='active', name='test_1', tags={}>"
            ]
          },
          "metadata": {},
          "execution_count": 4
        }
      ]
    },
    {
      "cell_type": "code",
      "source": [
        "mlflow.set_experiment(experiment_name=experiment)\n"
      ],
      "metadata": {
        "colab": {
          "base_uri": "https://localhost:8080/"
        },
        "id": "WmDS25eF4-66",
        "outputId": "b8832705-9a95-4054-cbda-23c23363c8ff"
      },
      "execution_count": null,
      "outputs": [
        {
          "output_type": "stream",
          "name": "stderr",
          "text": [
            "2024/03/10 02:17:29 INFO mlflow.tracking.fluent: Experiment with name '887541927159291913' does not exist. Creating a new experiment.\n"
          ]
        },
        {
          "output_type": "execute_result",
          "data": {
            "text/plain": [
              "<Experiment: artifact_location='file:///content/mlruns/289833711567474043', creation_time=1710037049256, experiment_id='289833711567474043', last_update_time=1710037049256, lifecycle_stage='active', name='887541927159291913', tags={}>"
            ]
          },
          "metadata": {},
          "execution_count": 5
        }
      ]
    },
    {
      "cell_type": "code",
      "source": [
        "mlflow.start_run()"
      ],
      "metadata": {
        "colab": {
          "base_uri": "https://localhost:8080/"
        },
        "id": "q3yj82U05TtK",
        "outputId": "5006f621-4f4c-4a7c-b05a-650052f1ebf9"
      },
      "execution_count": null,
      "outputs": [
        {
          "output_type": "execute_result",
          "data": {
            "text/plain": [
              "<ActiveRun: >"
            ]
          },
          "metadata": {},
          "execution_count": 6
        }
      ]
    },
    {
      "cell_type": "code",
      "source": [
        "mlflow.tensorflow.autolog()"
      ],
      "metadata": {
        "id": "gL_KGsY28PFA"
      },
      "execution_count": null,
      "outputs": []
    },
    {
      "cell_type": "code",
      "source": [
        "mlflow.end_run()"
      ],
      "metadata": {
        "id": "mw37Mc0c5jOg"
      },
      "execution_count": null,
      "outputs": []
    },
    {
      "cell_type": "code",
      "source": [
        "!pip install pyngrok --quiet"
      ],
      "metadata": {
        "id": "xKXTDJnZ55jH"
      },
      "execution_count": null,
      "outputs": []
    },
    {
      "cell_type": "code",
      "source": [
        "from pyngrok import ngrok\n",
        "\n",
        "# Terminate open tunnels if exist\n",
        "ngrok.kill()\n",
        "\n",
        "# Setting the authtoken (optional)\n",
        "# Get your authtoken from https://dashboard.ngrok.com/auth\n",
        "NGROK_AUTH_TOKEN = \"2dQidHTAz61GXyOsDd8ZqhTfh22_ALAmt1k3CsB9dMFYYKgT\"\n",
        "ngrok.set_auth_token(NGROK_AUTH_TOKEN)\n",
        "\n",
        "# Open an HTTPs tunnel on port 5000 for http://localhost:5000\n",
        "ngrok_tunnel = ngrok.connect(addr=\"5000\", proto=\"http\", bind_tls=True)\n",
        "print(\"MLflow Tracking UI:\", ngrok_tunnel.public_url)"
      ],
      "metadata": {
        "colab": {
          "base_uri": "https://localhost:8080/"
        },
        "id": "ZI3lrn0T5yyV",
        "outputId": "364f3c47-3650-4532-e30c-0b1884847f98"
      },
      "execution_count": null,
      "outputs": [
        {
          "output_type": "stream",
          "name": "stdout",
          "text": [
            "MLflow Tracking UI: https://5d3e-34-86-122-133.ngrok-free.app\n"
          ]
        }
      ]
    },
    {
      "cell_type": "code",
      "source": [
        "!mlflow ui"
      ],
      "metadata": {
        "colab": {
          "base_uri": "https://localhost:8080/"
        },
        "id": "_r7td3nc6IkR",
        "outputId": "59f88d50-3573-47fe-9833-e77199061e1e"
      },
      "execution_count": null,
      "outputs": [
        {
          "output_type": "stream",
          "name": "stdout",
          "text": [
            "[2024-03-10 02:17:47 +0000] [3766] [INFO] Starting gunicorn 21.2.0\n",
            "[2024-03-10 02:17:47 +0000] [3766] [INFO] Listening at: http://127.0.0.1:5000 (3766)\n",
            "[2024-03-10 02:17:47 +0000] [3766] [INFO] Using worker: sync\n",
            "[2024-03-10 02:17:47 +0000] [3767] [INFO] Booting worker with pid: 3767\n",
            "[2024-03-10 02:17:47 +0000] [3768] [INFO] Booting worker with pid: 3768\n",
            "[2024-03-10 02:17:47 +0000] [3769] [INFO] Booting worker with pid: 3769\n",
            "[2024-03-10 02:17:47 +0000] [3770] [INFO] Booting worker with pid: 3770\n",
            "[2024-03-10 02:18:14 +0000] [3766] [INFO] Handling signal: int\n",
            "\n",
            "Aborted!\n",
            "[2024-03-10 02:18:14 +0000] [3768] [INFO] Worker exiting (pid: 3768)\n",
            "[2024-03-10 02:18:14 +0000] [3767] [INFO] Worker exiting (pid: 3767)\n",
            "[2024-03-10 02:18:14 +0000] [3769] [INFO] Worker exiting (pid: 3769)\n",
            "[2024-03-10 02:18:14 +0000] [3770] [INFO] Worker exiting (pid: 3770)\n",
            "[2024-03-10 02:18:15 +0000] [3766] [INFO] Shutting down: Master\n"
          ]
        }
      ]
    },
    {
      "cell_type": "code",
      "source": [
        "dir(mlflow.tensorflow)"
      ],
      "metadata": {
        "colab": {
          "base_uri": "https://localhost:8080/"
        },
        "id": "9hTpowgcJ2Lb",
        "outputId": "4ecb343c-3f62-4387-94f4-b02b8c5b32d8"
      },
      "execution_count": null,
      "outputs": [
        {
          "output_type": "execute_result",
          "data": {
            "text/plain": [
              "['Any',\n",
              " 'CodeDatasetSource',\n",
              " 'DEFAULT_AWAIT_MAX_SLEEP_SECONDS',\n",
              " 'Dict',\n",
              " 'FLAVOR_NAME',\n",
              " 'INVALID_PARAMETER_VALUE',\n",
              " 'LOG_MODEL_PARAM_DOCS',\n",
              " 'MLMODEL_FILE_NAME',\n",
              " 'MLflowCallback',\n",
              " 'MlflowException',\n",
              " 'MlflowModelCheckpointCallback',\n",
              " 'Model',\n",
              " 'ModelInputExample',\n",
              " 'ModelSignature',\n",
              " 'NamedTuple',\n",
              " 'Optional',\n",
              " 'PatchFunction',\n",
              " 'TempDir',\n",
              " 'TensorSpec',\n",
              " 'Version',\n",
              " '_AUTOLOG_RUN_ID',\n",
              " '_CONDA_ENV_FILE_NAME',\n",
              " '_CONSTRAINTS_FILE_NAME',\n",
              " '_CUSTOM_OBJECTS_SAVE_PATH',\n",
              " '_GLOBAL_CUSTOM_OBJECTS_SAVE_PATH',\n",
              " '_KERAS_MODULE_SPEC_PATH',\n",
              " '_KERAS_SAVE_FORMAT_PATH',\n",
              " '_KerasModelWrapper',\n",
              " '_MODEL_SAVE_PATH',\n",
              " '_MODEL_TYPE_KERAS',\n",
              " '_MODEL_TYPE_TF1_ESTIMATOR',\n",
              " '_MODEL_TYPE_TF2_MODULE',\n",
              " '_NO_MODEL_SIGNATURE_WARNING',\n",
              " '_PYTHON_ENV_FILE_NAME',\n",
              " '_PythonEnv',\n",
              " '_REQUIREMENTS_FILE_NAME',\n",
              " '_TF2ModuleWrapper',\n",
              " '_TF2Wrapper',\n",
              " '_TensorBoardLogDir',\n",
              " '_WEIGHT_ONLY_CHECKPOINT_SUFFIX',\n",
              " '__builtins__',\n",
              " '__cached__',\n",
              " '__doc__',\n",
              " '__file__',\n",
              " '__loader__',\n",
              " '__name__',\n",
              " '__package__',\n",
              " '__path__',\n",
              " '__spec__',\n",
              " '_add_code_from_conf_to_system_path',\n",
              " '_assoc_list_to_map',\n",
              " '_download_artifact_from_uri',\n",
              " '_get_flavor_conf',\n",
              " '_get_flavor_configuration',\n",
              " '_get_pinned_requirement',\n",
              " '_get_tensorboard_callback',\n",
              " '_infer_model_type',\n",
              " '_infer_signature_from_input_example',\n",
              " '_load_custom_objects',\n",
              " '_load_keras_model',\n",
              " '_load_pyfunc',\n",
              " '_load_tf1_estimator_saved_model',\n",
              " '_log_tensorflow_dataset',\n",
              " '_logger',\n",
              " '_mlflow_conda_env',\n",
              " '_process_conda_env',\n",
              " '_process_pip_requirements',\n",
              " '_save_example',\n",
              " '_save_keras_custom_objects',\n",
              " '_setup_callbacks',\n",
              " '_validate_and_copy_code_paths',\n",
              " '_validate_and_prepare_target_save_path',\n",
              " '_validate_env_arguments',\n",
              " 'autolog',\n",
              " 'autologging_integration',\n",
              " 'callback',\n",
              " 'context_registry',\n",
              " 'download_checkpoint_artifact',\n",
              " 'format_docstring',\n",
              " 'from_numpy',\n",
              " 'from_tensorflow',\n",
              " 'get_autologging_config',\n",
              " 'get_default_conda_env',\n",
              " 'get_default_pip_requirements',\n",
              " 'get_global_custom_objects',\n",
              " 'get_total_file_size',\n",
              " 'importlib',\n",
              " 'infer_signature',\n",
              " 'is_iterator',\n",
              " 'load_checkpoint',\n",
              " 'load_model',\n",
              " 'log_fn_args_as_params',\n",
              " 'log_model',\n",
              " 'logging',\n",
              " 'mlflow',\n",
              " 'np',\n",
              " 'os',\n",
              " 'pandas',\n",
              " 'picklable_exception_safe_function',\n",
              " 'pyfunc',\n",
              " 'resolve_input_example_and_signature',\n",
              " 'safe_patch',\n",
              " 'save_model',\n",
              " 'shutil',\n",
              " 'tempfile',\n",
              " 'write_to',\n",
              " 'yaml']"
            ]
          },
          "metadata": {},
          "execution_count": 13
        }
      ]
    },
    {
      "cell_type": "code",
      "source": [
        "mlflow.tensorflow.autologging_integration()"
      ],
      "metadata": {
        "id": "Lr6JCgyaKe17"
      },
      "execution_count": null,
      "outputs": []
    }
  ]
}