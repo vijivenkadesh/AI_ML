{
  "nbformat": 4,
  "nbformat_minor": 0,
  "metadata": {
    "colab": {
      "provenance": []
    },
    "kernelspec": {
      "name": "python3",
      "display_name": "Python 3"
    },
    "language_info": {
      "name": "python"
    }
  },
  "cells": [
    {
      "cell_type": "markdown",
      "source": [
        "[link text](https://towardsdatascience.com/customer-segmentation-using-k-means-clustering-d33964f238c3)"
      ],
      "metadata": {
        "id": "-EtFWIZOXHqg"
      }
    },
    {
      "cell_type": "markdown",
      "source": [
        "https://medium.com/mlearning-ai/customer-segmentation-using-k-means-clustering-ae73e3d82934"
      ],
      "metadata": {
        "id": "aNmFvMUHXOJv"
      }
    },
    {
      "cell_type": "code",
      "execution_count": 25,
      "metadata": {
        "id": "smUioLMUafUh"
      },
      "outputs": [],
      "source": [
        "import numpy as np\n",
        "import pandas as pd\n",
        "import matplotlib.pyplot as plt\n",
        "import seaborn as sns"
      ]
    },
    {
      "cell_type": "code",
      "source": [
        "df = pd.read_csv('Mall_Customers.csv')"
      ],
      "metadata": {
        "id": "b9MF0z9EZ7HE"
      },
      "execution_count": 26,
      "outputs": []
    },
    {
      "cell_type": "code",
      "source": [
        "df.head()"
      ],
      "metadata": {
        "colab": {
          "base_uri": "https://localhost:8080/",
          "height": 206
        },
        "id": "sgea4CttaI3R",
        "outputId": "2341edfb-ad15-4936-b755-f92da2124855"
      },
      "execution_count": 27,
      "outputs": [
        {
          "output_type": "execute_result",
          "data": {
            "text/plain": [
              "   CustomerID  Gender  Age  Annual Income (k$)  Spending Score (1-100)\n",
              "0           1    Male   19                  15                      39\n",
              "1           2    Male   21                  15                      81\n",
              "2           3  Female   20                  16                       6\n",
              "3           4  Female   23                  16                      77\n",
              "4           5  Female   31                  17                      40"
            ],
            "text/html": [
              "\n",
              "  <div id=\"df-399c995f-37e6-4ce1-983d-fdba492819ac\" class=\"colab-df-container\">\n",
              "    <div>\n",
              "<style scoped>\n",
              "    .dataframe tbody tr th:only-of-type {\n",
              "        vertical-align: middle;\n",
              "    }\n",
              "\n",
              "    .dataframe tbody tr th {\n",
              "        vertical-align: top;\n",
              "    }\n",
              "\n",
              "    .dataframe thead th {\n",
              "        text-align: right;\n",
              "    }\n",
              "</style>\n",
              "<table border=\"1\" class=\"dataframe\">\n",
              "  <thead>\n",
              "    <tr style=\"text-align: right;\">\n",
              "      <th></th>\n",
              "      <th>CustomerID</th>\n",
              "      <th>Gender</th>\n",
              "      <th>Age</th>\n",
              "      <th>Annual Income (k$)</th>\n",
              "      <th>Spending Score (1-100)</th>\n",
              "    </tr>\n",
              "  </thead>\n",
              "  <tbody>\n",
              "    <tr>\n",
              "      <th>0</th>\n",
              "      <td>1</td>\n",
              "      <td>Male</td>\n",
              "      <td>19</td>\n",
              "      <td>15</td>\n",
              "      <td>39</td>\n",
              "    </tr>\n",
              "    <tr>\n",
              "      <th>1</th>\n",
              "      <td>2</td>\n",
              "      <td>Male</td>\n",
              "      <td>21</td>\n",
              "      <td>15</td>\n",
              "      <td>81</td>\n",
              "    </tr>\n",
              "    <tr>\n",
              "      <th>2</th>\n",
              "      <td>3</td>\n",
              "      <td>Female</td>\n",
              "      <td>20</td>\n",
              "      <td>16</td>\n",
              "      <td>6</td>\n",
              "    </tr>\n",
              "    <tr>\n",
              "      <th>3</th>\n",
              "      <td>4</td>\n",
              "      <td>Female</td>\n",
              "      <td>23</td>\n",
              "      <td>16</td>\n",
              "      <td>77</td>\n",
              "    </tr>\n",
              "    <tr>\n",
              "      <th>4</th>\n",
              "      <td>5</td>\n",
              "      <td>Female</td>\n",
              "      <td>31</td>\n",
              "      <td>17</td>\n",
              "      <td>40</td>\n",
              "    </tr>\n",
              "  </tbody>\n",
              "</table>\n",
              "</div>\n",
              "    <div class=\"colab-df-buttons\">\n",
              "\n",
              "  <div class=\"colab-df-container\">\n",
              "    <button class=\"colab-df-convert\" onclick=\"convertToInteractive('df-399c995f-37e6-4ce1-983d-fdba492819ac')\"\n",
              "            title=\"Convert this dataframe to an interactive table.\"\n",
              "            style=\"display:none;\">\n",
              "\n",
              "  <svg xmlns=\"http://www.w3.org/2000/svg\" height=\"24px\" viewBox=\"0 -960 960 960\">\n",
              "    <path d=\"M120-120v-720h720v720H120Zm60-500h600v-160H180v160Zm220 220h160v-160H400v160Zm0 220h160v-160H400v160ZM180-400h160v-160H180v160Zm440 0h160v-160H620v160ZM180-180h160v-160H180v160Zm440 0h160v-160H620v160Z\"/>\n",
              "  </svg>\n",
              "    </button>\n",
              "\n",
              "  <style>\n",
              "    .colab-df-container {\n",
              "      display:flex;\n",
              "      gap: 12px;\n",
              "    }\n",
              "\n",
              "    .colab-df-convert {\n",
              "      background-color: #E8F0FE;\n",
              "      border: none;\n",
              "      border-radius: 50%;\n",
              "      cursor: pointer;\n",
              "      display: none;\n",
              "      fill: #1967D2;\n",
              "      height: 32px;\n",
              "      padding: 0 0 0 0;\n",
              "      width: 32px;\n",
              "    }\n",
              "\n",
              "    .colab-df-convert:hover {\n",
              "      background-color: #E2EBFA;\n",
              "      box-shadow: 0px 1px 2px rgba(60, 64, 67, 0.3), 0px 1px 3px 1px rgba(60, 64, 67, 0.15);\n",
              "      fill: #174EA6;\n",
              "    }\n",
              "\n",
              "    .colab-df-buttons div {\n",
              "      margin-bottom: 4px;\n",
              "    }\n",
              "\n",
              "    [theme=dark] .colab-df-convert {\n",
              "      background-color: #3B4455;\n",
              "      fill: #D2E3FC;\n",
              "    }\n",
              "\n",
              "    [theme=dark] .colab-df-convert:hover {\n",
              "      background-color: #434B5C;\n",
              "      box-shadow: 0px 1px 3px 1px rgba(0, 0, 0, 0.15);\n",
              "      filter: drop-shadow(0px 1px 2px rgba(0, 0, 0, 0.3));\n",
              "      fill: #FFFFFF;\n",
              "    }\n",
              "  </style>\n",
              "\n",
              "    <script>\n",
              "      const buttonEl =\n",
              "        document.querySelector('#df-399c995f-37e6-4ce1-983d-fdba492819ac button.colab-df-convert');\n",
              "      buttonEl.style.display =\n",
              "        google.colab.kernel.accessAllowed ? 'block' : 'none';\n",
              "\n",
              "      async function convertToInteractive(key) {\n",
              "        const element = document.querySelector('#df-399c995f-37e6-4ce1-983d-fdba492819ac');\n",
              "        const dataTable =\n",
              "          await google.colab.kernel.invokeFunction('convertToInteractive',\n",
              "                                                    [key], {});\n",
              "        if (!dataTable) return;\n",
              "\n",
              "        const docLinkHtml = 'Like what you see? Visit the ' +\n",
              "          '<a target=\"_blank\" href=https://colab.research.google.com/notebooks/data_table.ipynb>data table notebook</a>'\n",
              "          + ' to learn more about interactive tables.';\n",
              "        element.innerHTML = '';\n",
              "        dataTable['output_type'] = 'display_data';\n",
              "        await google.colab.output.renderOutput(dataTable, element);\n",
              "        const docLink = document.createElement('div');\n",
              "        docLink.innerHTML = docLinkHtml;\n",
              "        element.appendChild(docLink);\n",
              "      }\n",
              "    </script>\n",
              "  </div>\n",
              "\n",
              "\n",
              "<div id=\"df-e75bcbdb-eb72-4026-829b-b9010f5a9994\">\n",
              "  <button class=\"colab-df-quickchart\" onclick=\"quickchart('df-e75bcbdb-eb72-4026-829b-b9010f5a9994')\"\n",
              "            title=\"Suggest charts.\"\n",
              "            style=\"display:none;\">\n",
              "\n",
              "<svg xmlns=\"http://www.w3.org/2000/svg\" height=\"24px\"viewBox=\"0 0 24 24\"\n",
              "     width=\"24px\">\n",
              "    <g>\n",
              "        <path d=\"M19 3H5c-1.1 0-2 .9-2 2v14c0 1.1.9 2 2 2h14c1.1 0 2-.9 2-2V5c0-1.1-.9-2-2-2zM9 17H7v-7h2v7zm4 0h-2V7h2v10zm4 0h-2v-4h2v4z\"/>\n",
              "    </g>\n",
              "</svg>\n",
              "  </button>\n",
              "\n",
              "<style>\n",
              "  .colab-df-quickchart {\n",
              "      --bg-color: #E8F0FE;\n",
              "      --fill-color: #1967D2;\n",
              "      --hover-bg-color: #E2EBFA;\n",
              "      --hover-fill-color: #174EA6;\n",
              "      --disabled-fill-color: #AAA;\n",
              "      --disabled-bg-color: #DDD;\n",
              "  }\n",
              "\n",
              "  [theme=dark] .colab-df-quickchart {\n",
              "      --bg-color: #3B4455;\n",
              "      --fill-color: #D2E3FC;\n",
              "      --hover-bg-color: #434B5C;\n",
              "      --hover-fill-color: #FFFFFF;\n",
              "      --disabled-bg-color: #3B4455;\n",
              "      --disabled-fill-color: #666;\n",
              "  }\n",
              "\n",
              "  .colab-df-quickchart {\n",
              "    background-color: var(--bg-color);\n",
              "    border: none;\n",
              "    border-radius: 50%;\n",
              "    cursor: pointer;\n",
              "    display: none;\n",
              "    fill: var(--fill-color);\n",
              "    height: 32px;\n",
              "    padding: 0;\n",
              "    width: 32px;\n",
              "  }\n",
              "\n",
              "  .colab-df-quickchart:hover {\n",
              "    background-color: var(--hover-bg-color);\n",
              "    box-shadow: 0 1px 2px rgba(60, 64, 67, 0.3), 0 1px 3px 1px rgba(60, 64, 67, 0.15);\n",
              "    fill: var(--button-hover-fill-color);\n",
              "  }\n",
              "\n",
              "  .colab-df-quickchart-complete:disabled,\n",
              "  .colab-df-quickchart-complete:disabled:hover {\n",
              "    background-color: var(--disabled-bg-color);\n",
              "    fill: var(--disabled-fill-color);\n",
              "    box-shadow: none;\n",
              "  }\n",
              "\n",
              "  .colab-df-spinner {\n",
              "    border: 2px solid var(--fill-color);\n",
              "    border-color: transparent;\n",
              "    border-bottom-color: var(--fill-color);\n",
              "    animation:\n",
              "      spin 1s steps(1) infinite;\n",
              "  }\n",
              "\n",
              "  @keyframes spin {\n",
              "    0% {\n",
              "      border-color: transparent;\n",
              "      border-bottom-color: var(--fill-color);\n",
              "      border-left-color: var(--fill-color);\n",
              "    }\n",
              "    20% {\n",
              "      border-color: transparent;\n",
              "      border-left-color: var(--fill-color);\n",
              "      border-top-color: var(--fill-color);\n",
              "    }\n",
              "    30% {\n",
              "      border-color: transparent;\n",
              "      border-left-color: var(--fill-color);\n",
              "      border-top-color: var(--fill-color);\n",
              "      border-right-color: var(--fill-color);\n",
              "    }\n",
              "    40% {\n",
              "      border-color: transparent;\n",
              "      border-right-color: var(--fill-color);\n",
              "      border-top-color: var(--fill-color);\n",
              "    }\n",
              "    60% {\n",
              "      border-color: transparent;\n",
              "      border-right-color: var(--fill-color);\n",
              "    }\n",
              "    80% {\n",
              "      border-color: transparent;\n",
              "      border-right-color: var(--fill-color);\n",
              "      border-bottom-color: var(--fill-color);\n",
              "    }\n",
              "    90% {\n",
              "      border-color: transparent;\n",
              "      border-bottom-color: var(--fill-color);\n",
              "    }\n",
              "  }\n",
              "</style>\n",
              "\n",
              "  <script>\n",
              "    async function quickchart(key) {\n",
              "      const quickchartButtonEl =\n",
              "        document.querySelector('#' + key + ' button');\n",
              "      quickchartButtonEl.disabled = true;  // To prevent multiple clicks.\n",
              "      quickchartButtonEl.classList.add('colab-df-spinner');\n",
              "      try {\n",
              "        const charts = await google.colab.kernel.invokeFunction(\n",
              "            'suggestCharts', [key], {});\n",
              "      } catch (error) {\n",
              "        console.error('Error during call to suggestCharts:', error);\n",
              "      }\n",
              "      quickchartButtonEl.classList.remove('colab-df-spinner');\n",
              "      quickchartButtonEl.classList.add('colab-df-quickchart-complete');\n",
              "    }\n",
              "    (() => {\n",
              "      let quickchartButtonEl =\n",
              "        document.querySelector('#df-e75bcbdb-eb72-4026-829b-b9010f5a9994 button');\n",
              "      quickchartButtonEl.style.display =\n",
              "        google.colab.kernel.accessAllowed ? 'block' : 'none';\n",
              "    })();\n",
              "  </script>\n",
              "</div>\n",
              "    </div>\n",
              "  </div>\n"
            ]
          },
          "metadata": {},
          "execution_count": 27
        }
      ]
    },
    {
      "cell_type": "code",
      "source": [
        "df_1 = df.drop(labels='CustomerID', axis=1)"
      ],
      "metadata": {
        "id": "jmfWpVkKawYi"
      },
      "execution_count": 28,
      "outputs": []
    },
    {
      "cell_type": "code",
      "source": [
        "df_1.info()"
      ],
      "metadata": {
        "colab": {
          "base_uri": "https://localhost:8080/"
        },
        "id": "MEFkijY6cuaK",
        "outputId": "69d14452-7032-4002-d973-679af373b6d7"
      },
      "execution_count": 29,
      "outputs": [
        {
          "output_type": "stream",
          "name": "stdout",
          "text": [
            "<class 'pandas.core.frame.DataFrame'>\n",
            "RangeIndex: 200 entries, 0 to 199\n",
            "Data columns (total 4 columns):\n",
            " #   Column                  Non-Null Count  Dtype \n",
            "---  ------                  --------------  ----- \n",
            " 0   Gender                  200 non-null    object\n",
            " 1   Age                     200 non-null    int64 \n",
            " 2   Annual Income (k$)      200 non-null    int64 \n",
            " 3   Spending Score (1-100)  200 non-null    int64 \n",
            "dtypes: int64(3), object(1)\n",
            "memory usage: 6.4+ KB\n"
          ]
        }
      ]
    },
    {
      "cell_type": "code",
      "source": [
        "plt.figure(facecolor='c')\n",
        "plt.boxplot(x=df_1['Age'])\n",
        "plt.show()"
      ],
      "metadata": {
        "colab": {
          "base_uri": "https://localhost:8080/",
          "height": 430
        },
        "id": "ohCiI9aRRGuw",
        "outputId": "9bf2998c-1b70-40e8-f6fe-7de4a9f6bcd2"
      },
      "execution_count": 30,
      "outputs": [
        {
          "output_type": "display_data",
          "data": {
            "text/plain": [
              "<Figure size 640x480 with 1 Axes>"
            ],
            "image/png": "[encoded data removed]"
          },
          "metadata": {}
        }
      ]
    },
    {
      "cell_type": "code",
      "source": [
        "df_1.describe()"
      ],
      "metadata": {
        "colab": {
          "base_uri": "https://localhost:8080/",
          "height": 300
        },
        "id": "rRBTCNlAaqfw",
        "outputId": "86324253-3b15-4bbc-cd79-8f29a2c0d598"
      },
      "execution_count": 31,
      "outputs": [
        {
          "output_type": "execute_result",
          "data": {
            "text/plain": [
              "              Age  Annual Income (k$)  Spending Score (1-100)\n",
              "count  200.000000          200.000000              200.000000\n",
              "mean    38.850000           60.560000               50.200000\n",
              "std     13.969007           26.264721               25.823522\n",
              "min     18.000000           15.000000                1.000000\n",
              "25%     28.750000           41.500000               34.750000\n",
              "50%     36.000000           61.500000               50.000000\n",
              "75%     49.000000           78.000000               73.000000\n",
              "max     70.000000          137.000000               99.000000"
            ],
            "text/html": [
              "\n",
              "  <div id=\"df-0326e8e4-ce41-42c7-9267-c36f7521aaa5\" class=\"colab-df-container\">\n",
              "    <div>\n",
              "<style scoped>\n",
              "    .dataframe tbody tr th:only-of-type {\n",
              "        vertical-align: middle;\n",
              "    }\n",
              "\n",
              "    .dataframe tbody tr th {\n",
              "        vertical-align: top;\n",
              "    }\n",
              "\n",
              "    .dataframe thead th {\n",
              "        text-align: right;\n",
              "    }\n",
              "</style>\n",
              "<table border=\"1\" class=\"dataframe\">\n",
              "  <thead>\n",
              "    <tr style=\"text-align: right;\">\n",
              "      <th></th>\n",
              "      <th>Age</th>\n",
              "      <th>Annual Income (k$)</th>\n",
              "      <th>Spending Score (1-100)</th>\n",
              "    </tr>\n",
              "  </thead>\n",
              "  <tbody>\n",
              "    <tr>\n",
              "      <th>count</th>\n",
              "      <td>200.000000</td>\n",
              "      <td>200.000000</td>\n",
              "      <td>200.000000</td>\n",
              "    </tr>\n",
              "    <tr>\n",
              "      <th>mean</th>\n",
              "      <td>38.850000</td>\n",
              "      <td>60.560000</td>\n",
              "      <td>50.200000</td>\n",
              "    </tr>\n",
              "    <tr>\n",
              "      <th>std</th>\n",
              "      <td>13.969007</td>\n",
              "      <td>26.264721</td>\n",
              "      <td>25.823522</td>\n",
              "    </tr>\n",
              "    <tr>\n",
              "      <th>min</th>\n",
              "      <td>18.000000</td>\n",
              "      <td>15.000000</td>\n",
              "      <td>1.000000</td>\n",
              "    </tr>\n",
              "    <tr>\n",
              "      <th>25%</th>\n",
              "      <td>28.750000</td>\n",
              "      <td>41.500000</td>\n",
              "      <td>34.750000</td>\n",
              "    </tr>\n",
              "    <tr>\n",
              "      <th>50%</th>\n",
              "      <td>36.000000</td>\n",
              "      <td>61.500000</td>\n",
              "      <td>50.000000</td>\n",
              "    </tr>\n",
              "    <tr>\n",
              "      <th>75%</th>\n",
              "      <td>49.000000</td>\n",
              "      <td>78.000000</td>\n",
              "      <td>73.000000</td>\n",
              "    </tr>\n",
              "    <tr>\n",
              "      <th>max</th>\n",
              "      <td>70.000000</td>\n",
              "      <td>137.000000</td>\n",
              "      <td>99.000000</td>\n",
              "    </tr>\n",
              "  </tbody>\n",
              "</table>\n",
              "</div>\n",
              "    <div class=\"colab-df-buttons\">\n",
              "\n",
              "  <div class=\"colab-df-container\">\n",
              "    <button class=\"colab-df-convert\" onclick=\"convertToInteractive('df-0326e8e4-ce41-42c7-9267-c36f7521aaa5')\"\n",
              "            title=\"Convert this dataframe to an interactive table.\"\n",
              "            style=\"display:none;\">\n",
              "\n",
              "  <svg xmlns=\"http://www.w3.org/2000/svg\" height=\"24px\" viewBox=\"0 -960 960 960\">\n",
              "    <path d=\"M120-120v-720h720v720H120Zm60-500h600v-160H180v160Zm220 220h160v-160H400v160Zm0 220h160v-160H400v160ZM180-400h160v-160H180v160Zm440 0h160v-160H620v160ZM180-180h160v-160H180v160Zm440 0h160v-160H620v160Z\"/>\n",
              "  </svg>\n",
              "    </button>\n",
              "\n",
              "  <style>\n",
              "    .colab-df-container {\n",
              "      display:flex;\n",
              "      gap: 12px;\n",
              "    }\n",
              "\n",
              "    .colab-df-convert {\n",
              "      background-color: #E8F0FE;\n",
              "      border: none;\n",
              "      border-radius: 50%;\n",
              "      cursor: pointer;\n",
              "      display: none;\n",
              "      fill: #1967D2;\n",
              "      height: 32px;\n",
              "      padding: 0 0 0 0;\n",
              "      width: 32px;\n",
              "    }\n",
              "\n",
              "    .colab-df-convert:hover {\n",
              "      background-color: #E2EBFA;\n",
              "      box-shadow: 0px 1px 2px rgba(60, 64, 67, 0.3), 0px 1px 3px 1px rgba(60, 64, 67, 0.15);\n",
              "      fill: #174EA6;\n",
              "    }\n",
              "\n",
              "    .colab-df-buttons div {\n",
              "      margin-bottom: 4px;\n",
              "    }\n",
              "\n",
              "    [theme=dark] .colab-df-convert {\n",
              "      background-color: #3B4455;\n",
              "      fill: #D2E3FC;\n",
              "    }\n",
              "\n",
              "    [theme=dark] .colab-df-convert:hover {\n",
              "      background-color: #434B5C;\n",
              "      box-shadow: 0px 1px 3px 1px rgba(0, 0, 0, 0.15);\n",
              "      filter: drop-shadow(0px 1px 2px rgba(0, 0, 0, 0.3));\n",
              "      fill: #FFFFFF;\n",
              "    }\n",
              "  </style>\n",
              "\n",
              "    <script>\n",
              "      const buttonEl =\n",
              "        document.querySelector('#df-0326e8e4-ce41-42c7-9267-c36f7521aaa5 button.colab-df-convert');\n",
              "      buttonEl.style.display =\n",
              "        google.colab.kernel.accessAllowed ? 'block' : 'none';\n",
              "\n",
              "      async function convertToInteractive(key) {\n",
              "        const element = document.querySelector('#df-0326e8e4-ce41-42c7-9267-c36f7521aaa5');\n",
              "        const dataTable =\n",
              "          await google.colab.kernel.invokeFunction('convertToInteractive',\n",
              "                                                    [key], {});\n",
              "        if (!dataTable) return;\n",
              "\n",
              "        const docLinkHtml = 'Like what you see? Visit the ' +\n",
              "          '<a target=\"_blank\" href=https://colab.research.google.com/notebooks/data_table.ipynb>data table notebook</a>'\n",
              "          + ' to learn more about interactive tables.';\n",
              "        element.innerHTML = '';\n",
              "        dataTable['output_type'] = 'display_data';\n",
              "        await google.colab.output.renderOutput(dataTable, element);\n",
              "        const docLink = document.createElement('div');\n",
              "        docLink.innerHTML = docLinkHtml;\n",
              "        element.appendChild(docLink);\n",
              "      }\n",
              "    </script>\n",
              "  </div>\n",
              "\n",
              "\n",
              "<div id=\"df-b5013f69-9ea1-4532-a1f6-82763e0b1ebe\">\n",
              "  <button class=\"colab-df-quickchart\" onclick=\"quickchart('df-b5013f69-9ea1-4532-a1f6-82763e0b1ebe')\"\n",
              "            title=\"Suggest charts.\"\n",
              "            style=\"display:none;\">\n",
              "\n",
              "<svg xmlns=\"http://www.w3.org/2000/svg\" height=\"24px\"viewBox=\"0 0 24 24\"\n",
              "     width=\"24px\">\n",
              "    <g>\n",
              "        <path d=\"M19 3H5c-1.1 0-2 .9-2 2v14c0 1.1.9 2 2 2h14c1.1 0 2-.9 2-2V5c0-1.1-.9-2-2-2zM9 17H7v-7h2v7zm4 0h-2V7h2v10zm4 0h-2v-4h2v4z\"/>\n",
              "    </g>\n",
              "</svg>\n",
              "  </button>\n",
              "\n",
              "<style>\n",
              "  .colab-df-quickchart {\n",
              "      --bg-color: #E8F0FE;\n",
              "      --fill-color: #1967D2;\n",
              "      --hover-bg-color: #E2EBFA;\n",
              "      --hover-fill-color: #174EA6;\n",
              "      --disabled-fill-color: #AAA;\n",
              "      --disabled-bg-color: #DDD;\n",
              "  }\n",
              "\n",
              "  [theme=dark] .colab-df-quickchart {\n",
              "      --bg-color: #3B4455;\n",
              "      --fill-color: #D2E3FC;\n",
              "      --hover-bg-color: #434B5C;\n",
              "      --hover-fill-color: #FFFFFF;\n",
              "      --disabled-bg-color: #3B4455;\n",
              "      --disabled-fill-color: #666;\n",
              "  }\n",
              "\n",
              "  .colab-df-quickchart {\n",
              "    background-color: var(--bg-color);\n",
              "    border: none;\n",
              "    border-radius: 50%;\n",
              "    cursor: pointer;\n",
              "    display: none;\n",
              "    fill: var(--fill-color);\n",
              "    height: 32px;\n",
              "    padding: 0;\n",
              "    width: 32px;\n",
              "  }\n",
              "\n",
              "  .colab-df-quickchart:hover {\n",
              "    background-color: var(--hover-bg-color);\n",
              "    box-shadow: 0 1px 2px rgba(60, 64, 67, 0.3), 0 1px 3px 1px rgba(60, 64, 67, 0.15);\n",
              "    fill: var(--button-hover-fill-color);\n",
              "  }\n",
              "\n",
              "  .colab-df-quickchart-complete:disabled,\n",
              "  .colab-df-quickchart-complete:disabled:hover {\n",
              "    background-color: var(--disabled-bg-color);\n",
              "    fill: var(--disabled-fill-color);\n",
              "    box-shadow: none;\n",
              "  }\n",
              "\n",
              "  .colab-df-spinner {\n",
              "    border: 2px solid var(--fill-color);\n",
              "    border-color: transparent;\n",
              "    border-bottom-color: var(--fill-color);\n",
              "    animation:\n",
              "      spin 1s steps(1) infinite;\n",
              "  }\n",
              "\n",
              "  @keyframes spin {\n",
              "    0% {\n",
              "      border-color: transparent;\n",
              "      border-bottom-color: var(--fill-color);\n",
              "      border-left-color: var(--fill-color);\n",
              "    }\n",
              "    20% {\n",
              "      border-color: transparent;\n",
              "      border-left-color: var(--fill-color);\n",
              "      border-top-color: var(--fill-color);\n",
              "    }\n",
              "    30% {\n",
              "      border-color: transparent;\n",
              "      border-left-color: var(--fill-color);\n",
              "      border-top-color: var(--fill-color);\n",
              "      border-right-color: var(--fill-color);\n",
              "    }\n",
              "    40% {\n",
              "      border-color: transparent;\n",
              "      border-right-color: var(--fill-color);\n",
              "      border-top-color: var(--fill-color);\n",
              "    }\n",
              "    60% {\n",
              "      border-color: transparent;\n",
              "      border-right-color: var(--fill-color);\n",
              "    }\n",
              "    80% {\n",
              "      border-color: transparent;\n",
              "      border-right-color: var(--fill-color);\n",
              "      border-bottom-color: var(--fill-color);\n",
              "    }\n",
              "    90% {\n",
              "      border-color: transparent;\n",
              "      border-bottom-color: var(--fill-color);\n",
              "    }\n",
              "  }\n",
              "</style>\n",
              "\n",
              "  <script>\n",
              "    async function quickchart(key) {\n",
              "      const quickchartButtonEl =\n",
              "        document.querySelector('#' + key + ' button');\n",
              "      quickchartButtonEl.disabled = true;  // To prevent multiple clicks.\n",
              "      quickchartButtonEl.classList.add('colab-df-spinner');\n",
              "      try {\n",
              "        const charts = await google.colab.kernel.invokeFunction(\n",
              "            'suggestCharts', [key], {});\n",
              "      } catch (error) {\n",
              "        console.error('Error during call to suggestCharts:', error);\n",
              "      }\n",
              "      quickchartButtonEl.classList.remove('colab-df-spinner');\n",
              "      quickchartButtonEl.classList.add('colab-df-quickchart-complete');\n",
              "    }\n",
              "    (() => {\n",
              "      let quickchartButtonEl =\n",
              "        document.querySelector('#df-b5013f69-9ea1-4532-a1f6-82763e0b1ebe button');\n",
              "      quickchartButtonEl.style.display =\n",
              "        google.colab.kernel.accessAllowed ? 'block' : 'none';\n",
              "    })();\n",
              "  </script>\n",
              "</div>\n",
              "    </div>\n",
              "  </div>\n"
            ]
          },
          "metadata": {},
          "execution_count": 31
        }
      ]
    },
    {
      "cell_type": "code",
      "source": [
        "df_1.isnull().sum()"
      ],
      "metadata": {
        "colab": {
          "base_uri": "https://localhost:8080/"
        },
        "id": "IdStciXZbfYR",
        "outputId": "14af1a22-82a2-47ae-91f1-be77e569b008"
      },
      "execution_count": 32,
      "outputs": [
        {
          "output_type": "execute_result",
          "data": {
            "text/plain": [
              "Gender                    0\n",
              "Age                       0\n",
              "Annual Income (k$)        0\n",
              "Spending Score (1-100)    0\n",
              "dtype: int64"
            ]
          },
          "metadata": {},
          "execution_count": 32
        }
      ]
    },
    {
      "cell_type": "code",
      "source": [
        "df.duplicated().sum()"
      ],
      "metadata": {
        "colab": {
          "base_uri": "https://localhost:8080/"
        },
        "id": "o1Re5-y8blSK",
        "outputId": "f1a8cda0-b000-4efb-d6f4-828fc02c9b7b"
      },
      "execution_count": 33,
      "outputs": [
        {
          "output_type": "execute_result",
          "data": {
            "text/plain": [
              "0"
            ]
          },
          "metadata": {},
          "execution_count": 33
        }
      ]
    },
    {
      "cell_type": "markdown",
      "source": [
        "Data Preprocessing"
      ],
      "metadata": {
        "id": "P7OE2xPsdCzU"
      }
    },
    {
      "cell_type": "code",
      "source": [
        "from sklearn.preprocessing import MinMaxScaler, OneHotEncoder\n",
        "from sklearn.compose import ColumnTransformer"
      ],
      "metadata": {
        "id": "0YtuUq3wdFS8"
      },
      "execution_count": 34,
      "outputs": []
    },
    {
      "cell_type": "code",
      "source": [
        "ct = ColumnTransformer(transformers=[('scale', MinMaxScaler(), ['Age', 'Annual Income (k$)', 'Spending Score (1-100)']),\n",
        "  ('oht', OneHotEncoder(), ['Gender'])], remainder='passthrough')"
      ],
      "metadata": {
        "id": "jMVz4G3Jdhe4"
      },
      "execution_count": 35,
      "outputs": []
    },
    {
      "cell_type": "code",
      "source": [
        "df_2 = ct.fit_transform(df_1)"
      ],
      "metadata": {
        "id": "AIhcBdrPgRVG"
      },
      "execution_count": 36,
      "outputs": []
    },
    {
      "cell_type": "code",
      "source": [
        "df_2"
      ],
      "metadata": {
        "colab": {
          "base_uri": "https://localhost:8080/"
        },
        "id": "9q9NXqjcgUy1",
        "outputId": "3bca27a8-9621-4a82-e6ed-49b8a20d16c0"
      },
      "execution_count": 37,
      "outputs": [
        {
          "output_type": "execute_result",
          "data": {
            "text/plain": [
              "array([[0.01923077, 0.        , 0.3877551 , 0.        , 1.        ],\n",
              "       [0.05769231, 0.        , 0.81632653, 0.        , 1.        ],\n",
              "       [0.03846154, 0.00819672, 0.05102041, 1.        , 0.        ],\n",
              "       [0.09615385, 0.00819672, 0.7755102 , 1.        , 0.        ],\n",
              "       [0.25      , 0.01639344, 0.39795918, 1.        , 0.        ],\n",
              "       [0.07692308, 0.01639344, 0.76530612, 1.        , 0.        ],\n",
              "       [0.32692308, 0.02459016, 0.05102041, 1.        , 0.        ],\n",
              "       [0.09615385, 0.02459016, 0.94897959, 1.        , 0.        ],\n",
              "       [0.88461538, 0.03278689, 0.02040816, 0.        , 1.        ],\n",
              "       [0.23076923, 0.03278689, 0.7244898 , 1.        , 0.        ],\n",
              "       [0.94230769, 0.03278689, 0.13265306, 0.        , 1.        ],\n",
              "       [0.32692308, 0.03278689, 1.        , 1.        , 0.        ],\n",
              "       [0.76923077, 0.04098361, 0.14285714, 1.        , 0.        ],\n",
              "       [0.11538462, 0.04098361, 0.7755102 , 1.        , 0.        ],\n",
              "       [0.36538462, 0.04098361, 0.12244898, 0.        , 1.        ],\n",
              "       [0.07692308, 0.04098361, 0.79591837, 0.        , 1.        ],\n",
              "       [0.32692308, 0.04918033, 0.34693878, 1.        , 0.        ],\n",
              "       [0.03846154, 0.04918033, 0.66326531, 0.        , 1.        ],\n",
              "       [0.65384615, 0.06557377, 0.28571429, 0.        , 1.        ],\n",
              "       [0.32692308, 0.06557377, 0.98979592, 1.        , 0.        ],\n",
              "       [0.32692308, 0.07377049, 0.34693878, 0.        , 1.        ],\n",
              "       [0.13461538, 0.07377049, 0.73469388, 0.        , 1.        ],\n",
              "       [0.53846154, 0.08196721, 0.04081633, 1.        , 0.        ],\n",
              "       [0.25      , 0.08196721, 0.73469388, 0.        , 1.        ],\n",
              "       [0.69230769, 0.10655738, 0.13265306, 1.        , 0.        ],\n",
              "       [0.21153846, 0.10655738, 0.82653061, 0.        , 1.        ],\n",
              "       [0.51923077, 0.10655738, 0.31632653, 1.        , 0.        ],\n",
              "       [0.32692308, 0.10655738, 0.6122449 , 0.        , 1.        ],\n",
              "       [0.42307692, 0.1147541 , 0.30612245, 1.        , 0.        ],\n",
              "       [0.09615385, 0.1147541 , 0.87755102, 1.        , 0.        ],\n",
              "       [0.80769231, 0.12295082, 0.03061224, 0.        , 1.        ],\n",
              "       [0.05769231, 0.12295082, 0.73469388, 1.        , 0.        ],\n",
              "       [0.67307692, 0.14754098, 0.03061224, 0.        , 1.        ],\n",
              "       [0.        , 0.14754098, 0.92857143, 0.        , 1.        ],\n",
              "       [0.59615385, 0.14754098, 0.13265306, 1.        , 0.        ],\n",
              "       [0.05769231, 0.14754098, 0.81632653, 1.        , 0.        ],\n",
              "       [0.46153846, 0.1557377 , 0.16326531, 1.        , 0.        ],\n",
              "       [0.23076923, 0.1557377 , 0.73469388, 1.        , 0.        ],\n",
              "       [0.34615385, 0.18032787, 0.25510204, 1.        , 0.        ],\n",
              "       [0.03846154, 0.18032787, 0.75510204, 1.        , 0.        ],\n",
              "       [0.90384615, 0.18852459, 0.34693878, 1.        , 0.        ],\n",
              "       [0.11538462, 0.18852459, 0.92857143, 0.        , 1.        ],\n",
              "       [0.57692308, 0.19672131, 0.35714286, 0.        , 1.        ],\n",
              "       [0.25      , 0.19672131, 0.6122449 , 1.        , 0.        ],\n",
              "       [0.59615385, 0.19672131, 0.2755102 , 1.        , 0.        ],\n",
              "       [0.11538462, 0.19672131, 0.65306122, 1.        , 0.        ],\n",
              "       [0.61538462, 0.20491803, 0.55102041, 1.        , 0.        ],\n",
              "       [0.17307692, 0.20491803, 0.46938776, 1.        , 0.        ],\n",
              "       [0.21153846, 0.20491803, 0.41836735, 1.        , 0.        ],\n",
              "       [0.25      , 0.20491803, 0.41836735, 1.        , 0.        ],\n",
              "       [0.59615385, 0.22131148, 0.52040816, 1.        , 0.        ],\n",
              "       [0.28846154, 0.22131148, 0.60204082, 0.        , 1.        ],\n",
              "       [0.25      , 0.2295082 , 0.54081633, 1.        , 0.        ],\n",
              "       [0.78846154, 0.2295082 , 0.60204082, 0.        , 1.        ],\n",
              "       [0.61538462, 0.2295082 , 0.44897959, 1.        , 0.        ],\n",
              "       [0.55769231, 0.2295082 , 0.40816327, 0.        , 1.        ],\n",
              "       [0.63461538, 0.23770492, 0.5       , 1.        , 0.        ],\n",
              "       [0.98076923, 0.23770492, 0.45918367, 0.        , 1.        ],\n",
              "       [0.17307692, 0.25409836, 0.51020408, 1.        , 0.        ],\n",
              "       [0.67307692, 0.25409836, 0.45918367, 0.        , 1.        ],\n",
              "       [1.        , 0.25409836, 0.56122449, 0.        , 1.        ],\n",
              "       [0.01923077, 0.25409836, 0.55102041, 0.        , 1.        ],\n",
              "       [0.94230769, 0.26229508, 0.52040816, 1.        , 0.        ],\n",
              "       [0.69230769, 0.26229508, 0.59183673, 1.        , 0.        ],\n",
              "       [0.86538462, 0.2704918 , 0.51020408, 0.        , 1.        ],\n",
              "       [0.        , 0.2704918 , 0.59183673, 0.        , 1.        ],\n",
              "       [0.48076923, 0.2704918 , 0.5       , 1.        , 0.        ],\n",
              "       [0.96153846, 0.2704918 , 0.47959184, 1.        , 0.        ],\n",
              "       [0.01923077, 0.2704918 , 0.59183673, 0.        , 1.        ],\n",
              "       [0.26923077, 0.2704918 , 0.46938776, 1.        , 0.        ],\n",
              "       [1.        , 0.27868852, 0.55102041, 0.        , 1.        ],\n",
              "       [0.55769231, 0.27868852, 0.41836735, 1.        , 0.        ],\n",
              "       [0.80769231, 0.28688525, 0.48979592, 1.        , 0.        ],\n",
              "       [0.80769231, 0.28688525, 0.56122449, 1.        , 0.        ],\n",
              "       [0.78846154, 0.31967213, 0.46938776, 0.        , 1.        ],\n",
              "       [0.15384615, 0.31967213, 0.54081633, 0.        , 1.        ],\n",
              "       [0.51923077, 0.31967213, 0.53061224, 1.        , 0.        ],\n",
              "       [0.42307692, 0.31967213, 0.47959184, 0.        , 1.        ],\n",
              "       [0.09615385, 0.31967213, 0.52040816, 1.        , 0.        ],\n",
              "       [0.59615385, 0.31967213, 0.41836735, 1.        , 0.        ],\n",
              "       [0.75      , 0.31967213, 0.51020408, 0.        , 1.        ],\n",
              "       [0.38461538, 0.31967213, 0.55102041, 0.        , 1.        ],\n",
              "       [0.94230769, 0.31967213, 0.40816327, 0.        , 1.        ],\n",
              "       [0.53846154, 0.31967213, 0.43877551, 1.        , 0.        ],\n",
              "       [0.05769231, 0.31967213, 0.57142857, 1.        , 0.        ],\n",
              "       [0.57692308, 0.31967213, 0.45918367, 0.        , 1.        ],\n",
              "       [0.71153846, 0.3442623 , 0.58163265, 1.        , 0.        ],\n",
              "       [0.07692308, 0.3442623 , 0.55102041, 1.        , 0.        ],\n",
              "       [0.30769231, 0.35245902, 0.60204082, 1.        , 0.        ],\n",
              "       [0.61538462, 0.35245902, 0.45918367, 1.        , 0.        ],\n",
              "       [0.96153846, 0.36065574, 0.55102041, 1.        , 0.        ],\n",
              "       [0.        , 0.36065574, 0.40816327, 0.        , 1.        ],\n",
              "       [0.57692308, 0.36885246, 0.48979592, 0.        , 1.        ],\n",
              "       [0.42307692, 0.36885246, 0.39795918, 1.        , 0.        ],\n",
              "       [0.26923077, 0.36885246, 0.41836735, 1.        , 0.        ],\n",
              "       [0.11538462, 0.36885246, 0.52040816, 0.        , 1.        ],\n",
              "       [0.55769231, 0.36885246, 0.46938776, 1.        , 0.        ],\n",
              "       [0.17307692, 0.36885246, 0.5       , 1.        , 0.        ],\n",
              "       [0.57692308, 0.37704918, 0.41836735, 0.        , 1.        ],\n",
              "       [0.03846154, 0.37704918, 0.48979592, 0.        , 1.        ],\n",
              "       [0.09615385, 0.3852459 , 0.40816327, 1.        , 0.        ],\n",
              "       [0.59615385, 0.3852459 , 0.47959184, 1.        , 0.        ],\n",
              "       [0.94230769, 0.3852459 , 0.59183673, 0.        , 1.        ],\n",
              "       [0.15384615, 0.3852459 , 0.55102041, 0.        , 1.        ],\n",
              "       [0.59615385, 0.3852459 , 0.56122449, 0.        , 1.        ],\n",
              "       [0.05769231, 0.3852459 , 0.41836735, 1.        , 0.        ],\n",
              "       [0.92307692, 0.39344262, 0.5       , 1.        , 0.        ],\n",
              "       [0.69230769, 0.39344262, 0.45918367, 0.        , 1.        ],\n",
              "       [0.96153846, 0.39344262, 0.42857143, 0.        , 1.        ],\n",
              "       [0.92307692, 0.39344262, 0.47959184, 0.        , 1.        ],\n",
              "       [0.90384615, 0.39344262, 0.52040816, 0.        , 1.        ],\n",
              "       [0.01923077, 0.39344262, 0.54081633, 1.        , 0.        ],\n",
              "       [0.38461538, 0.40163934, 0.41836735, 1.        , 0.        ],\n",
              "       [0.01923077, 0.40163934, 0.45918367, 0.        , 1.        ],\n",
              "       [0.        , 0.40983607, 0.47959184, 1.        , 0.        ],\n",
              "       [0.01923077, 0.40983607, 0.5       , 1.        , 0.        ],\n",
              "       [0.86538462, 0.40983607, 0.42857143, 1.        , 0.        ],\n",
              "       [0.59615385, 0.40983607, 0.59183673, 1.        , 0.        ],\n",
              "       [0.63461538, 0.42622951, 0.42857143, 1.        , 0.        ],\n",
              "       [0.61538462, 0.42622951, 0.57142857, 1.        , 0.        ],\n",
              "       [0.17307692, 0.42622951, 0.56122449, 0.        , 1.        ],\n",
              "       [0.38461538, 0.42622951, 0.39795918, 1.        , 0.        ],\n",
              "       [0.42307692, 0.44262295, 0.58163265, 1.        , 0.        ],\n",
              "       [0.40384615, 0.44262295, 0.91836735, 0.        , 1.        ],\n",
              "       [0.09615385, 0.45081967, 0.28571429, 1.        , 0.        ],\n",
              "       [0.25      , 0.45081967, 0.7755102 , 1.        , 0.        ],\n",
              "       [0.48076923, 0.45901639, 0.34693878, 0.        , 1.        ],\n",
              "       [0.42307692, 0.45901639, 0.95918367, 0.        , 1.        ],\n",
              "       [0.78846154, 0.45901639, 0.10204082, 0.        , 1.        ],\n",
              "       [0.38461538, 0.45901639, 0.75510204, 0.        , 1.        ],\n",
              "       [0.55769231, 0.45901639, 0.08163265, 0.        , 1.        ],\n",
              "       [0.40384615, 0.45901639, 0.75510204, 0.        , 1.        ],\n",
              "       [0.13461538, 0.46721311, 0.33673469, 1.        , 0.        ],\n",
              "       [0.25      , 0.46721311, 0.71428571, 1.        , 0.        ],\n",
              "       [0.03846154, 0.47540984, 0.04081633, 0.        , 1.        ],\n",
              "       [0.21153846, 0.47540984, 0.8877551 , 1.        , 0.        ],\n",
              "       [0.5       , 0.47540984, 0.06122449, 1.        , 0.        ],\n",
              "       [0.26923077, 0.47540984, 0.73469388, 0.        , 1.        ],\n",
              "       [0.01923077, 0.48360656, 0.09183673, 0.        , 1.        ],\n",
              "       [0.32692308, 0.48360656, 0.7244898 , 1.        , 0.        ],\n",
              "       [0.75      , 0.49180328, 0.04081633, 1.        , 0.        ],\n",
              "       [0.26923077, 0.49180328, 0.93877551, 0.        , 1.        ],\n",
              "       [0.19230769, 0.5       , 0.39795918, 1.        , 0.        ],\n",
              "       [0.26923077, 0.5       , 0.87755102, 1.        , 0.        ],\n",
              "       [0.13461538, 0.50819672, 0.1122449 , 0.        , 1.        ],\n",
              "       [0.19230769, 0.50819672, 0.97959184, 0.        , 1.        ],\n",
              "       [0.57692308, 0.50819672, 0.35714286, 0.        , 1.        ],\n",
              "       [0.26923077, 0.50819672, 0.74489796, 1.        , 0.        ],\n",
              "       [0.30769231, 0.51639344, 0.21428571, 1.        , 0.        ],\n",
              "       [0.30769231, 0.51639344, 0.90816327, 0.        , 1.        ],\n",
              "       [0.48076923, 0.51639344, 0.16326531, 0.        , 1.        ],\n",
              "       [0.40384615, 0.51639344, 0.8877551 , 0.        , 1.        ],\n",
              "       [0.5       , 0.51639344, 0.19387755, 1.        , 0.        ],\n",
              "       [0.38461538, 0.51639344, 0.76530612, 1.        , 0.        ],\n",
              "       [0.55769231, 0.51639344, 0.15306122, 1.        , 0.        ],\n",
              "       [0.17307692, 0.51639344, 0.89795918, 1.        , 0.        ],\n",
              "       [0.36538462, 0.51639344, 0.        , 0.        , 1.        ],\n",
              "       [0.23076923, 0.51639344, 0.78571429, 1.        , 0.        ],\n",
              "       [0.30769231, 0.51639344, 0.        , 0.        , 1.        ],\n",
              "       [0.23076923, 0.51639344, 0.73469388, 1.        , 0.        ],\n",
              "       [0.73076923, 0.52459016, 0.34693878, 1.        , 0.        ],\n",
              "       [0.21153846, 0.52459016, 0.83673469, 1.        , 0.        ],\n",
              "       [0.01923077, 0.54098361, 0.04081633, 0.        , 1.        ],\n",
              "       [0.25      , 0.54098361, 0.93877551, 1.        , 0.        ],\n",
              "       [0.61538462, 0.57377049, 0.25510204, 0.        , 1.        ],\n",
              "       [0.34615385, 0.57377049, 0.75510204, 1.        , 0.        ],\n",
              "       [0.46153846, 0.58196721, 0.19387755, 0.        , 1.        ],\n",
              "       [0.28846154, 0.58196721, 0.95918367, 1.        , 0.        ],\n",
              "       [0.34615385, 0.59016393, 0.26530612, 1.        , 0.        ],\n",
              "       [0.26923077, 0.59016393, 0.63265306, 0.        , 1.        ],\n",
              "       [0.42307692, 0.59016393, 0.12244898, 0.        , 1.        ],\n",
              "       [0.19230769, 0.59016393, 0.75510204, 0.        , 1.        ],\n",
              "       [0.34615385, 0.59016393, 0.09183673, 0.        , 1.        ],\n",
              "       [0.34615385, 0.59016393, 0.92857143, 0.        , 1.        ],\n",
              "       [0.65384615, 0.59836066, 0.12244898, 1.        , 0.        ],\n",
              "       [0.23076923, 0.59836066, 0.86734694, 1.        , 0.        ],\n",
              "       [0.76923077, 0.59836066, 0.14285714, 0.        , 1.        ],\n",
              "       [0.17307692, 0.59836066, 0.69387755, 0.        , 1.        ],\n",
              "       [0.78846154, 0.63934426, 0.13265306, 0.        , 1.        ],\n",
              "       [0.32692308, 0.63934426, 0.90816327, 0.        , 1.        ],\n",
              "       [0.36538462, 0.67213115, 0.31632653, 1.        , 0.        ],\n",
              "       [0.26923077, 0.67213115, 0.86734694, 1.        , 0.        ],\n",
              "       [0.53846154, 0.68032787, 0.14285714, 0.        , 1.        ],\n",
              "       [0.21153846, 0.68032787, 0.8877551 , 1.        , 0.        ],\n",
              "       [0.44230769, 0.68852459, 0.3877551 , 1.        , 0.        ],\n",
              "       [0.23076923, 0.68852459, 0.97959184, 0.        , 1.        ],\n",
              "       [0.69230769, 0.70491803, 0.23469388, 1.        , 0.        ],\n",
              "       [0.19230769, 0.70491803, 0.68367347, 0.        , 1.        ],\n",
              "       [0.44230769, 0.72131148, 0.16326531, 1.        , 0.        ],\n",
              "       [0.34615385, 0.72131148, 0.85714286, 1.        , 0.        ],\n",
              "       [0.30769231, 0.72131148, 0.2244898 , 1.        , 0.        ],\n",
              "       [0.26923077, 0.72131148, 0.69387755, 1.        , 0.        ],\n",
              "       [0.28846154, 0.80327869, 0.07142857, 0.        , 1.        ],\n",
              "       [0.38461538, 0.80327869, 0.91836735, 1.        , 0.        ],\n",
              "       [0.55769231, 0.86065574, 0.15306122, 1.        , 0.        ],\n",
              "       [0.32692308, 0.86065574, 0.79591837, 1.        , 0.        ],\n",
              "       [0.51923077, 0.90983607, 0.2755102 , 1.        , 0.        ],\n",
              "       [0.26923077, 0.90983607, 0.74489796, 0.        , 1.        ],\n",
              "       [0.26923077, 1.        , 0.17346939, 0.        , 1.        ],\n",
              "       [0.23076923, 1.        , 0.83673469, 0.        , 1.        ]])"
            ]
          },
          "metadata": {},
          "execution_count": 37
        }
      ]
    },
    {
      "cell_type": "code",
      "source": [
        "from sklearn.cluster import KMeans"
      ],
      "metadata": {
        "id": "ecoFyQj_hG-p"
      },
      "execution_count": 38,
      "outputs": []
    },
    {
      "cell_type": "code",
      "source": [
        "wcss = []\n",
        "for i in range(1, 11):\n",
        "  kmeans_model = KMeans(n_clusters=i)\n",
        "  kmeans_model.fit(df_2)\n",
        "  wcss.append(kmeans_model.inertia_)\n"
      ],
      "metadata": {
        "colab": {
          "base_uri": "https://localhost:8080/"
        },
        "id": "WK5PiZG3iJ1s",
        "outputId": "110cc9ef-2e5b-4305-d086-79d1b877c1c4"
      },
      "execution_count": 39,
      "outputs": [
        {
          "output_type": "stream",
          "name": "stderr",
          "text": [
            "/usr/local/lib/python3.10/dist-packages/sklearn/cluster/_kmeans.py:870: FutureWarning: The default value of `n_init` will change from 10 to 'auto' in 1.4. Set the value of `n_init` explicitly to suppress the warning\n",
            "  warnings.warn(\n",
            "/usr/local/lib/python3.10/dist-packages/sklearn/cluster/_kmeans.py:870: FutureWarning: The default value of `n_init` will change from 10 to 'auto' in 1.4. Set the value of `n_init` explicitly to suppress the warning\n",
            "  warnings.warn(\n",
            "/usr/local/lib/python3.10/dist-packages/sklearn/cluster/_kmeans.py:870: FutureWarning: The default value of `n_init` will change from 10 to 'auto' in 1.4. Set the value of `n_init` explicitly to suppress the warning\n",
            "  warnings.warn(\n",
            "/usr/local/lib/python3.10/dist-packages/sklearn/cluster/_kmeans.py:870: FutureWarning: The default value of `n_init` will change from 10 to 'auto' in 1.4. Set the value of `n_init` explicitly to suppress the warning\n",
            "  warnings.warn(\n",
            "/usr/local/lib/python3.10/dist-packages/sklearn/cluster/_kmeans.py:870: FutureWarning: The default value of `n_init` will change from 10 to 'auto' in 1.4. Set the value of `n_init` explicitly to suppress the warning\n",
            "  warnings.warn(\n",
            "/usr/local/lib/python3.10/dist-packages/sklearn/cluster/_kmeans.py:870: FutureWarning: The default value of `n_init` will change from 10 to 'auto' in 1.4. Set the value of `n_init` explicitly to suppress the warning\n",
            "  warnings.warn(\n",
            "/usr/local/lib/python3.10/dist-packages/sklearn/cluster/_kmeans.py:870: FutureWarning: The default value of `n_init` will change from 10 to 'auto' in 1.4. Set the value of `n_init` explicitly to suppress the warning\n",
            "  warnings.warn(\n",
            "/usr/local/lib/python3.10/dist-packages/sklearn/cluster/_kmeans.py:870: FutureWarning: The default value of `n_init` will change from 10 to 'auto' in 1.4. Set the value of `n_init` explicitly to suppress the warning\n",
            "  warnings.warn(\n",
            "/usr/local/lib/python3.10/dist-packages/sklearn/cluster/_kmeans.py:870: FutureWarning: The default value of `n_init` will change from 10 to 'auto' in 1.4. Set the value of `n_init` explicitly to suppress the warning\n",
            "  warnings.warn(\n",
            "/usr/local/lib/python3.10/dist-packages/sklearn/cluster/_kmeans.py:870: FutureWarning: The default value of `n_init` will change from 10 to 'auto' in 1.4. Set the value of `n_init` explicitly to suppress the warning\n",
            "  warnings.warn(\n"
          ]
        }
      ]
    },
    {
      "cell_type": "code",
      "source": [
        "wcss"
      ],
      "metadata": {
        "colab": {
          "base_uri": "https://localhost:8080/"
        },
        "id": "mX6EAucAjIDE",
        "outputId": "98b52db2-457b-4f7c-9989-6b4ea33291fd"
      },
      "execution_count": 40,
      "outputs": [
        {
          "output_type": "execute_result",
          "data": {
            "text/plain": [
              "[135.96148216035948,\n",
              " 37.27227241211876,\n",
              " 29.552857611943857,\n",
              " 22.46281616781907,\n",
              " 19.057333261660176,\n",
              " 16.42702510169415,\n",
              " 14.229305695022063,\n",
              " 12.24791327983111,\n",
              " 10.57604374510544,\n",
              " 9.399802915576311]"
            ]
          },
          "metadata": {},
          "execution_count": 40
        }
      ]
    },
    {
      "cell_type": "code",
      "source": [
        "plt.figure(figsize=(5, 5))\n",
        "plt.grid()\n",
        "plt.plot(range(1, 11), wcss, color='c', linewidth=3, marker='o', markerfacecolor='k')\n",
        "plt.title('The Elbow Point Graph')"
      ],
      "metadata": {
        "colab": {
          "base_uri": "https://localhost:8080/",
          "height": 485
        },
        "id": "HPdZhklFlWa7",
        "outputId": "4b639a0e-47bd-44e6-ade4-cd2ebd117272"
      },
      "execution_count": 41,
      "outputs": [
        {
          "output_type": "execute_result",
          "data": {
            "text/plain": [
              "Text(0.5, 1.0, 'The Elbow Point Graph')"
            ]
          },
          "metadata": {},
          "execution_count": 41
        },
        {
          "output_type": "display_data",
          "data": {
            "text/plain": [
              "<Figure size 500x500 with 1 Axes>"
            ],
            "image/png": "[encoded data removed]"
          },
          "metadata": {}
        }
      ]
    },
    {
      "cell_type": "code",
      "source": [
        "kmeans_model2 = KMeans(n_clusters=3)\n",
        "kmeans_model2.fit(df_2)\n",
        "label = kmeans_model2.predict(df_2)"
      ],
      "metadata": {
        "colab": {
          "base_uri": "https://localhost:8080/"
        },
        "id": "1NCS0xpWE4TW",
        "outputId": "c309f178-0cca-4aef-88e1-973de48980cf"
      },
      "execution_count": 58,
      "outputs": [
        {
          "output_type": "stream",
          "name": "stderr",
          "text": [
            "/usr/local/lib/python3.10/dist-packages/sklearn/cluster/_kmeans.py:870: FutureWarning: The default value of `n_init` will change from 10 to 'auto' in 1.4. Set the value of `n_init` explicitly to suppress the warning\n",
            "  warnings.warn(\n"
          ]
        }
      ]
    },
    {
      "cell_type": "code",
      "source": [
        "label"
      ],
      "metadata": {
        "colab": {
          "base_uri": "https://localhost:8080/"
        },
        "id": "iSSA8FNNF6-B",
        "outputId": "66d30007-0699-4dd6-853d-a1057ec47a84"
      },
      "execution_count": 59,
      "outputs": [
        {
          "output_type": "execute_result",
          "data": {
            "text/plain": [
              "array([2, 2, 0, 0, 0, 0, 0, 0, 1, 0, 1, 0, 0, 0, 1, 2, 0, 2, 1, 0, 1, 2,\n",
              "       0, 2, 0, 2, 0, 2, 0, 0, 1, 0, 1, 2, 0, 0, 0, 0, 0, 0, 0, 2, 1, 0,\n",
              "       0, 0, 0, 0, 0, 0, 0, 2, 0, 1, 0, 1, 0, 1, 0, 1, 1, 2, 0, 0, 1, 2,\n",
              "       0, 0, 2, 0, 1, 0, 0, 0, 1, 2, 0, 1, 0, 0, 1, 2, 1, 0, 0, 1, 0, 0,\n",
              "       0, 0, 0, 2, 1, 0, 0, 2, 0, 0, 1, 2, 0, 0, 1, 2, 1, 0, 0, 1, 1, 1,\n",
              "       1, 0, 0, 2, 0, 0, 0, 0, 0, 0, 2, 0, 0, 2, 0, 0, 1, 2, 1, 2, 1, 2,\n",
              "       0, 0, 2, 0, 0, 2, 2, 0, 0, 2, 0, 0, 2, 2, 1, 0, 0, 2, 1, 2, 0, 0,\n",
              "       0, 0, 1, 0, 1, 0, 0, 0, 2, 0, 1, 0, 1, 0, 0, 2, 1, 2, 1, 2, 0, 0,\n",
              "       1, 2, 1, 2, 0, 0, 1, 0, 0, 2, 0, 2, 0, 0, 0, 0, 1, 0, 0, 0, 0, 2,\n",
              "       1, 2], dtype=int32)"
            ]
          },
          "metadata": {},
          "execution_count": 59
        }
      ]
    },
    {
      "cell_type": "code",
      "source": [
        "from sklearn.metrics import silhouette_score"
      ],
      "metadata": {
        "id": "hMvsv4jpGmPW"
      },
      "execution_count": 60,
      "outputs": []
    },
    {
      "cell_type": "code",
      "source": [
        "score = silhouette_score(X=df_2, labels=label)\n",
        "score"
      ],
      "metadata": {
        "colab": {
          "base_uri": "https://localhost:8080/"
        },
        "id": "D_RK5SnaGzJl",
        "outputId": "f8556772-24ca-4a54-f624-5b03bdc1ac7c"
      },
      "execution_count": 61,
      "outputs": [
        {
          "output_type": "execute_result",
          "data": {
            "text/plain": [
              "0.5254074643532914"
            ]
          },
          "metadata": {},
          "execution_count": 61
        }
      ]
    }
  ]
}