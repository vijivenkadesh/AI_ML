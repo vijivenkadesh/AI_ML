{
  "nbformat": 4,
  "nbformat_minor": 0,
  "metadata": {
    "colab": {
      "provenance": []
    },
    "kernelspec": {
      "name": "python3",
      "display_name": "Python 3"
    },
    "language_info": {
      "name": "python"
    }
  },
  "cells": [
    {
      "cell_type": "code",
      "execution_count": 4,
      "metadata": {
        "id": "5mTspr-xEAe4"
      },
      "outputs": [],
      "source": [
        "def metrics_summary(y_true, y_pred):\n",
        "  from sklearn.metrics import max_error, mean_absolute_error, mean_squared_error, r2_score\n",
        "  ''' This Function Returns the important Evaluation Metrics for a Simple Liner Regression Model'''\n",
        "  print(\"Maximum Error:\", max_error(y_true, y_pred))\n",
        "  print(\"MSE:\", mean_squared_error(y_true, y_pred))\n",
        "  print(\"MAE:\", mean_absolute_error(y_true, y_pred))\n",
        "  print(\"R2-Score:\", r2_score(y_true, y_pred))\n"
      ]
    }
  ]
}