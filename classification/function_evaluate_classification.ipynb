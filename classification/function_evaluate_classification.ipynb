{
  "nbformat": 4,
  "nbformat_minor": 0,
  "metadata": {
    "colab": {
      "provenance": []
    },
    "kernelspec": {
      "name": "python3",
      "display_name": "Python 3"
    },
    "language_info": {
      "name": "python"
    }
  },
  "cells": [
    {
      "cell_type": "code",
      "execution_count": 1,
      "metadata": {
        "id": "5mTspr-xEAe4"
      },
      "outputs": [],
      "source": [
        "def metrics_summary(y_true, y_pred):\n",
        "  from sklearn.metrics import accuracy_score, precision_score, recall_score, f1_score\n",
        "  ''' This Function Returns the important Evaluation Metrics for a Simple Liner Regression Model'''\n",
        "  print(\"Accuracy:\", accuracy_score(y_true, y_pred))\n",
        "  print(\"Precision:\", precision_score(y_true, y_pred))\n",
        "  print(\"Recall:\", recall_score(y_true, y_pred))\n",
        "  print(\"F1-Score:\",f1_score(y_true, y_pred))\n"
      ]
    }
  ]
}