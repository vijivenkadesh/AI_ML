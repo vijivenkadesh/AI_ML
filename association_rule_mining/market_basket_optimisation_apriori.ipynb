{
  "nbformat": 4,
  "nbformat_minor": 0,
  "metadata": {
    "colab": {
      "provenance": []
    },
    "kernelspec": {
      "name": "python3",
      "display_name": "Python 3"
    },
    "language_info": {
      "name": "python"
    }
  },
  "cells": [
    {
      "cell_type": "code",
      "source": [
        "!pip install apyori"
      ],
      "metadata": {
        "colab": {
          "base_uri": "https://localhost:8080/"
        },
        "id": "mL7M9XmJRQLW",
        "outputId": "6068f77e-0820-4781-c451-41f00b1457a2"
      },
      "execution_count": 2,
      "outputs": [
        {
          "output_type": "stream",
          "name": "stdout",
          "text": [
            "Collecting apyori\n",
            "  Downloading apyori-1.1.2.tar.gz (8.6 kB)\n",
            "  Preparing metadata (setup.py) ... \u001b[?25l\u001b[?25hdone\n",
            "Building wheels for collected packages: apyori\n",
            "  Building wheel for apyori (setup.py) ... \u001b[?25l\u001b[?25hdone\n",
            "  Created wheel for apyori: filename=apyori-1.1.2-py3-none-any.whl size=5955 sha256=7570dd3c1393cde3222b7acfd6d81138710e4d80ec66785457c0d7dafcf8bc93\n",
            "  Stored in directory: /root/.cache/pip/wheels/c4/1a/79/20f55c470a50bb3702a8cb7c94d8ada15573538c7f4baebe2d\n",
            "Successfully built apyori\n",
            "Installing collected packages: apyori\n",
            "Successfully installed apyori-1.1.2\n"
          ]
        }
      ]
    },
    {
      "cell_type": "code",
      "source": [
        "import numpy as np\n",
        "import pandas as pd\n",
        "import matplotlib.pyplot as plt\n"
      ],
      "metadata": {
        "id": "ClXhZ00oPGEX"
      },
      "execution_count": 3,
      "outputs": []
    },
    {
      "cell_type": "code",
      "source": [
        "df = pd.read_csv('market_basket_optimisation.csv', header=None)"
      ],
      "metadata": {
        "id": "8KK9gukSP4MJ"
      },
      "execution_count": 4,
      "outputs": []
    },
    {
      "cell_type": "code",
      "source": [
        "df"
      ],
      "metadata": {
        "colab": {
          "base_uri": "https://localhost:8080/",
          "height": 206
        },
        "id": "0jxQVeCmQD_V",
        "outputId": "8998c1b7-24ee-4c2b-b96a-5f0944697e07"
      },
      "execution_count": 5,
      "outputs": [
        {
          "output_type": "execute_result",
          "data": {
            "text/plain": [
              "       0       1       2     3\n",
              "0   Milk   Bread    Eggs   NaN\n",
              "1  Bread  Butter   Juice   NaN\n",
              "2   Milk   Bread  Butter  Eggs\n",
              "3  Bread   Juice     NaN   NaN\n",
              "4   Milk  Butter   Juice   NaN"
            ],
            "text/html": [
              "\n",
              "  <div id=\"df-9589457c-056f-4fa0-9e43-95cc38f58301\" class=\"colab-df-container\">\n",
              "    <div>\n",
              "<style scoped>\n",
              "    .dataframe tbody tr th:only-of-type {\n",
              "        vertical-align: middle;\n",
              "    }\n",
              "\n",
              "    .dataframe tbody tr th {\n",
              "        vertical-align: top;\n",
              "    }\n",
              "\n",
              "    .dataframe thead th {\n",
              "        text-align: right;\n",
              "    }\n",
              "</style>\n",
              "<table border=\"1\" class=\"dataframe\">\n",
              "  <thead>\n",
              "    <tr style=\"text-align: right;\">\n",
              "      <th></th>\n",
              "      <th>0</th>\n",
              "      <th>1</th>\n",
              "      <th>2</th>\n",
              "      <th>3</th>\n",
              "    </tr>\n",
              "  </thead>\n",
              "  <tbody>\n",
              "    <tr>\n",
              "      <th>0</th>\n",
              "      <td>Milk</td>\n",
              "      <td>Bread</td>\n",
              "      <td>Eggs</td>\n",
              "      <td>NaN</td>\n",
              "    </tr>\n",
              "    <tr>\n",
              "      <th>1</th>\n",
              "      <td>Bread</td>\n",
              "      <td>Butter</td>\n",
              "      <td>Juice</td>\n",
              "      <td>NaN</td>\n",
              "    </tr>\n",
              "    <tr>\n",
              "      <th>2</th>\n",
              "      <td>Milk</td>\n",
              "      <td>Bread</td>\n",
              "      <td>Butter</td>\n",
              "      <td>Eggs</td>\n",
              "    </tr>\n",
              "    <tr>\n",
              "      <th>3</th>\n",
              "      <td>Bread</td>\n",
              "      <td>Juice</td>\n",
              "      <td>NaN</td>\n",
              "      <td>NaN</td>\n",
              "    </tr>\n",
              "    <tr>\n",
              "      <th>4</th>\n",
              "      <td>Milk</td>\n",
              "      <td>Butter</td>\n",
              "      <td>Juice</td>\n",
              "      <td>NaN</td>\n",
              "    </tr>\n",
              "  </tbody>\n",
              "</table>\n",
              "</div>\n",
              "    <div class=\"colab-df-buttons\">\n",
              "\n",
              "  <div class=\"colab-df-container\">\n",
              "    <button class=\"colab-df-convert\" onclick=\"convertToInteractive('df-9589457c-056f-4fa0-9e43-95cc38f58301')\"\n",
              "            title=\"Convert this dataframe to an interactive table.\"\n",
              "            style=\"display:none;\">\n",
              "\n",
              "  <svg xmlns=\"http://www.w3.org/2000/svg\" height=\"24px\" viewBox=\"0 -960 960 960\">\n",
              "    <path d=\"M120-120v-720h720v720H120Zm60-500h600v-160H180v160Zm220 220h160v-160H400v160Zm0 220h160v-160H400v160ZM180-400h160v-160H180v160Zm440 0h160v-160H620v160ZM180-180h160v-160H180v160Zm440 0h160v-160H620v160Z\"/>\n",
              "  </svg>\n",
              "    </button>\n",
              "\n",
              "  <style>\n",
              "    .colab-df-container {\n",
              "      display:flex;\n",
              "      gap: 12px;\n",
              "    }\n",
              "\n",
              "    .colab-df-convert {\n",
              "      background-color: #E8F0FE;\n",
              "      border: none;\n",
              "      border-radius: 50%;\n",
              "      cursor: pointer;\n",
              "      display: none;\n",
              "      fill: #1967D2;\n",
              "      height: 32px;\n",
              "      padding: 0 0 0 0;\n",
              "      width: 32px;\n",
              "    }\n",
              "\n",
              "    .colab-df-convert:hover {\n",
              "      background-color: #E2EBFA;\n",
              "      box-shadow: 0px 1px 2px rgba(60, 64, 67, 0.3), 0px 1px 3px 1px rgba(60, 64, 67, 0.15);\n",
              "      fill: #174EA6;\n",
              "    }\n",
              "\n",
              "    .colab-df-buttons div {\n",
              "      margin-bottom: 4px;\n",
              "    }\n",
              "\n",
              "    [theme=dark] .colab-df-convert {\n",
              "      background-color: #3B4455;\n",
              "      fill: #D2E3FC;\n",
              "    }\n",
              "\n",
              "    [theme=dark] .colab-df-convert:hover {\n",
              "      background-color: #434B5C;\n",
              "      box-shadow: 0px 1px 3px 1px rgba(0, 0, 0, 0.15);\n",
              "      filter: drop-shadow(0px 1px 2px rgba(0, 0, 0, 0.3));\n",
              "      fill: #FFFFFF;\n",
              "    }\n",
              "  </style>\n",
              "\n",
              "    <script>\n",
              "      const buttonEl =\n",
              "        document.querySelector('#df-9589457c-056f-4fa0-9e43-95cc38f58301 button.colab-df-convert');\n",
              "      buttonEl.style.display =\n",
              "        google.colab.kernel.accessAllowed ? 'block' : 'none';\n",
              "\n",
              "      async function convertToInteractive(key) {\n",
              "        const element = document.querySelector('#df-9589457c-056f-4fa0-9e43-95cc38f58301');\n",
              "        const dataTable =\n",
              "          await google.colab.kernel.invokeFunction('convertToInteractive',\n",
              "                                                    [key], {});\n",
              "        if (!dataTable) return;\n",
              "\n",
              "        const docLinkHtml = 'Like what you see? Visit the ' +\n",
              "          '<a target=\"_blank\" href=https://colab.research.google.com/notebooks/data_table.ipynb>data table notebook</a>'\n",
              "          + ' to learn more about interactive tables.';\n",
              "        element.innerHTML = '';\n",
              "        dataTable['output_type'] = 'display_data';\n",
              "        await google.colab.output.renderOutput(dataTable, element);\n",
              "        const docLink = document.createElement('div');\n",
              "        docLink.innerHTML = docLinkHtml;\n",
              "        element.appendChild(docLink);\n",
              "      }\n",
              "    </script>\n",
              "  </div>\n",
              "\n",
              "\n",
              "<div id=\"df-075168a5-3d35-48e5-8855-14e88f12398a\">\n",
              "  <button class=\"colab-df-quickchart\" onclick=\"quickchart('df-075168a5-3d35-48e5-8855-14e88f12398a')\"\n",
              "            title=\"Suggest charts.\"\n",
              "            style=\"display:none;\">\n",
              "\n",
              "<svg xmlns=\"http://www.w3.org/2000/svg\" height=\"24px\"viewBox=\"0 0 24 24\"\n",
              "     width=\"24px\">\n",
              "    <g>\n",
              "        <path d=\"M19 3H5c-1.1 0-2 .9-2 2v14c0 1.1.9 2 2 2h14c1.1 0 2-.9 2-2V5c0-1.1-.9-2-2-2zM9 17H7v-7h2v7zm4 0h-2V7h2v10zm4 0h-2v-4h2v4z\"/>\n",
              "    </g>\n",
              "</svg>\n",
              "  </button>\n",
              "\n",
              "<style>\n",
              "  .colab-df-quickchart {\n",
              "      --bg-color: #E8F0FE;\n",
              "      --fill-color: #1967D2;\n",
              "      --hover-bg-color: #E2EBFA;\n",
              "      --hover-fill-color: #174EA6;\n",
              "      --disabled-fill-color: #AAA;\n",
              "      --disabled-bg-color: #DDD;\n",
              "  }\n",
              "\n",
              "  [theme=dark] .colab-df-quickchart {\n",
              "      --bg-color: #3B4455;\n",
              "      --fill-color: #D2E3FC;\n",
              "      --hover-bg-color: #434B5C;\n",
              "      --hover-fill-color: #FFFFFF;\n",
              "      --disabled-bg-color: #3B4455;\n",
              "      --disabled-fill-color: #666;\n",
              "  }\n",
              "\n",
              "  .colab-df-quickchart {\n",
              "    background-color: var(--bg-color);\n",
              "    border: none;\n",
              "    border-radius: 50%;\n",
              "    cursor: pointer;\n",
              "    display: none;\n",
              "    fill: var(--fill-color);\n",
              "    height: 32px;\n",
              "    padding: 0;\n",
              "    width: 32px;\n",
              "  }\n",
              "\n",
              "  .colab-df-quickchart:hover {\n",
              "    background-color: var(--hover-bg-color);\n",
              "    box-shadow: 0 1px 2px rgba(60, 64, 67, 0.3), 0 1px 3px 1px rgba(60, 64, 67, 0.15);\n",
              "    fill: var(--button-hover-fill-color);\n",
              "  }\n",
              "\n",
              "  .colab-df-quickchart-complete:disabled,\n",
              "  .colab-df-quickchart-complete:disabled:hover {\n",
              "    background-color: var(--disabled-bg-color);\n",
              "    fill: var(--disabled-fill-color);\n",
              "    box-shadow: none;\n",
              "  }\n",
              "\n",
              "  .colab-df-spinner {\n",
              "    border: 2px solid var(--fill-color);\n",
              "    border-color: transparent;\n",
              "    border-bottom-color: var(--fill-color);\n",
              "    animation:\n",
              "      spin 1s steps(1) infinite;\n",
              "  }\n",
              "\n",
              "  @keyframes spin {\n",
              "    0% {\n",
              "      border-color: transparent;\n",
              "      border-bottom-color: var(--fill-color);\n",
              "      border-left-color: var(--fill-color);\n",
              "    }\n",
              "    20% {\n",
              "      border-color: transparent;\n",
              "      border-left-color: var(--fill-color);\n",
              "      border-top-color: var(--fill-color);\n",
              "    }\n",
              "    30% {\n",
              "      border-color: transparent;\n",
              "      border-left-color: var(--fill-color);\n",
              "      border-top-color: var(--fill-color);\n",
              "      border-right-color: var(--fill-color);\n",
              "    }\n",
              "    40% {\n",
              "      border-color: transparent;\n",
              "      border-right-color: var(--fill-color);\n",
              "      border-top-color: var(--fill-color);\n",
              "    }\n",
              "    60% {\n",
              "      border-color: transparent;\n",
              "      border-right-color: var(--fill-color);\n",
              "    }\n",
              "    80% {\n",
              "      border-color: transparent;\n",
              "      border-right-color: var(--fill-color);\n",
              "      border-bottom-color: var(--fill-color);\n",
              "    }\n",
              "    90% {\n",
              "      border-color: transparent;\n",
              "      border-bottom-color: var(--fill-color);\n",
              "    }\n",
              "  }\n",
              "</style>\n",
              "\n",
              "  <script>\n",
              "    async function quickchart(key) {\n",
              "      const quickchartButtonEl =\n",
              "        document.querySelector('#' + key + ' button');\n",
              "      quickchartButtonEl.disabled = true;  // To prevent multiple clicks.\n",
              "      quickchartButtonEl.classList.add('colab-df-spinner');\n",
              "      try {\n",
              "        const charts = await google.colab.kernel.invokeFunction(\n",
              "            'suggestCharts', [key], {});\n",
              "      } catch (error) {\n",
              "        console.error('Error during call to suggestCharts:', error);\n",
              "      }\n",
              "      quickchartButtonEl.classList.remove('colab-df-spinner');\n",
              "      quickchartButtonEl.classList.add('colab-df-quickchart-complete');\n",
              "    }\n",
              "    (() => {\n",
              "      let quickchartButtonEl =\n",
              "        document.querySelector('#df-075168a5-3d35-48e5-8855-14e88f12398a button');\n",
              "      quickchartButtonEl.style.display =\n",
              "        google.colab.kernel.accessAllowed ? 'block' : 'none';\n",
              "    })();\n",
              "  </script>\n",
              "</div>\n",
              "    </div>\n",
              "  </div>\n"
            ]
          },
          "metadata": {},
          "execution_count": 5
        }
      ]
    },
    {
      "cell_type": "code",
      "source": [
        "transaction = []\n",
        "for i in range(0, 5):\n",
        "  transaction.append([str(df.values[i,j]) for j in range(0, 4)])"
      ],
      "metadata": {
        "id": "9DakoFReQX8h"
      },
      "execution_count": 6,
      "outputs": []
    },
    {
      "cell_type": "code",
      "source": [
        "transaction"
      ],
      "metadata": {
        "colab": {
          "base_uri": "https://localhost:8080/"
        },
        "id": "SYXJBY6wQ9Q3",
        "outputId": "21481e4e-052a-46a0-c93a-5f12c14bcf30"
      },
      "execution_count": 7,
      "outputs": [
        {
          "output_type": "execute_result",
          "data": {
            "text/plain": [
              "[['Milk', 'Bread', 'Eggs', 'nan'],\n",
              " ['Bread', 'Butter', 'Juice', 'nan'],\n",
              " ['Milk', 'Bread', 'Butter', 'Eggs'],\n",
              " ['Bread', 'Juice', 'nan', 'nan'],\n",
              " ['Milk', 'Butter', 'Juice', 'nan']]"
            ]
          },
          "metadata": {},
          "execution_count": 7
        }
      ]
    },
    {
      "cell_type": "code",
      "source": [
        "transactions = [['Milk', 'Bread', 'Eggs'],\n",
        " ['Bread', 'Butter', 'Juice'],\n",
        " ['Milk', 'Bread', 'Butter', 'Eggs'],\n",
        " ['Bread', 'Juice'],\n",
        " ['Milk', 'Butter', 'Juice']]"
      ],
      "metadata": {
        "id": "Er9HUpA1RHln"
      },
      "execution_count": 8,
      "outputs": []
    },
    {
      "cell_type": "code",
      "source": [
        "from apyori import apriori\n",
        "rules = apriori(transactions = transactions, min_support=0.4, min_confidence=0.2, min_lift=1, min_length = 2, max_length = 2)"
      ],
      "metadata": {
        "id": "JwonMNFkRVis"
      },
      "execution_count": 28,
      "outputs": []
    },
    {
      "cell_type": "code",
      "source": [
        "results =  list(rules)"
      ],
      "metadata": {
        "id": "kJXeiQc6RXQE"
      },
      "execution_count": 29,
      "outputs": []
    },
    {
      "cell_type": "code",
      "source": [
        "results"
      ],
      "metadata": {
        "colab": {
          "base_uri": "https://localhost:8080/"
        },
        "id": "0GdIazHpRcAf",
        "outputId": "2ee675b8-db61-4279-d8fa-f839985dac0a"
      },
      "execution_count": 30,
      "outputs": [
        {
          "output_type": "execute_result",
          "data": {
            "text/plain": [
              "[RelationRecord(items=frozenset({'Bread'}), support=0.8, ordered_statistics=[OrderedStatistic(items_base=frozenset(), items_add=frozenset({'Bread'}), confidence=0.8, lift=1.0)]),\n",
              " RelationRecord(items=frozenset({'Butter'}), support=0.6, ordered_statistics=[OrderedStatistic(items_base=frozenset(), items_add=frozenset({'Butter'}), confidence=0.6, lift=1.0)]),\n",
              " RelationRecord(items=frozenset({'Eggs'}), support=0.4, ordered_statistics=[OrderedStatistic(items_base=frozenset(), items_add=frozenset({'Eggs'}), confidence=0.4, lift=1.0)]),\n",
              " RelationRecord(items=frozenset({'Juice'}), support=0.6, ordered_statistics=[OrderedStatistic(items_base=frozenset(), items_add=frozenset({'Juice'}), confidence=0.6, lift=1.0)]),\n",
              " RelationRecord(items=frozenset({'Milk'}), support=0.6, ordered_statistics=[OrderedStatistic(items_base=frozenset(), items_add=frozenset({'Milk'}), confidence=0.6, lift=1.0)]),\n",
              " RelationRecord(items=frozenset({'Butter', 'Bread'}), support=0.4, ordered_statistics=[OrderedStatistic(items_base=frozenset(), items_add=frozenset({'Butter', 'Bread'}), confidence=0.4, lift=1.0)]),\n",
              " RelationRecord(items=frozenset({'Bread', 'Eggs'}), support=0.4, ordered_statistics=[OrderedStatistic(items_base=frozenset(), items_add=frozenset({'Bread', 'Eggs'}), confidence=0.4, lift=1.0), OrderedStatistic(items_base=frozenset({'Bread'}), items_add=frozenset({'Eggs'}), confidence=0.5, lift=1.25), OrderedStatistic(items_base=frozenset({'Eggs'}), items_add=frozenset({'Bread'}), confidence=1.0, lift=1.25)]),\n",
              " RelationRecord(items=frozenset({'Bread', 'Juice'}), support=0.4, ordered_statistics=[OrderedStatistic(items_base=frozenset(), items_add=frozenset({'Bread', 'Juice'}), confidence=0.4, lift=1.0)]),\n",
              " RelationRecord(items=frozenset({'Milk', 'Bread'}), support=0.4, ordered_statistics=[OrderedStatistic(items_base=frozenset(), items_add=frozenset({'Milk', 'Bread'}), confidence=0.4, lift=1.0)]),\n",
              " RelationRecord(items=frozenset({'Butter', 'Juice'}), support=0.4, ordered_statistics=[OrderedStatistic(items_base=frozenset(), items_add=frozenset({'Butter', 'Juice'}), confidence=0.4, lift=1.0), OrderedStatistic(items_base=frozenset({'Butter'}), items_add=frozenset({'Juice'}), confidence=0.6666666666666667, lift=1.1111111111111114), OrderedStatistic(items_base=frozenset({'Juice'}), items_add=frozenset({'Butter'}), confidence=0.6666666666666667, lift=1.1111111111111114)]),\n",
              " RelationRecord(items=frozenset({'Milk', 'Butter'}), support=0.4, ordered_statistics=[OrderedStatistic(items_base=frozenset(), items_add=frozenset({'Milk', 'Butter'}), confidence=0.4, lift=1.0), OrderedStatistic(items_base=frozenset({'Butter'}), items_add=frozenset({'Milk'}), confidence=0.6666666666666667, lift=1.1111111111111114), OrderedStatistic(items_base=frozenset({'Milk'}), items_add=frozenset({'Butter'}), confidence=0.6666666666666667, lift=1.1111111111111114)]),\n",
              " RelationRecord(items=frozenset({'Milk', 'Eggs'}), support=0.4, ordered_statistics=[OrderedStatistic(items_base=frozenset(), items_add=frozenset({'Milk', 'Eggs'}), confidence=0.4, lift=1.0), OrderedStatistic(items_base=frozenset({'Eggs'}), items_add=frozenset({'Milk'}), confidence=1.0, lift=1.6666666666666667), OrderedStatistic(items_base=frozenset({'Milk'}), items_add=frozenset({'Eggs'}), confidence=0.6666666666666667, lift=1.6666666666666667)])]"
            ]
          },
          "metadata": {},
          "execution_count": 30
        }
      ]
    },
    {
      "cell_type": "code",
      "source": [
        "for item in results:\n",
        "  print(item)"
      ],
      "metadata": {
        "colab": {
          "base_uri": "https://localhost:8080/"
        },
        "id": "pZhPyLr5wjVm",
        "outputId": "242e8623-b0b7-4c0f-810c-70d424c1f732"
      },
      "execution_count": 41,
      "outputs": [
        {
          "output_type": "stream",
          "name": "stdout",
          "text": [
            "RelationRecord(items=frozenset({'Bread'}), support=0.8, ordered_statistics=[OrderedStatistic(items_base=frozenset(), items_add=frozenset({'Bread'}), confidence=0.8, lift=1.0)])\n",
            "RelationRecord(items=frozenset({'Butter'}), support=0.6, ordered_statistics=[OrderedStatistic(items_base=frozenset(), items_add=frozenset({'Butter'}), confidence=0.6, lift=1.0)])\n",
            "RelationRecord(items=frozenset({'Eggs'}), support=0.4, ordered_statistics=[OrderedStatistic(items_base=frozenset(), items_add=frozenset({'Eggs'}), confidence=0.4, lift=1.0)])\n",
            "RelationRecord(items=frozenset({'Juice'}), support=0.6, ordered_statistics=[OrderedStatistic(items_base=frozenset(), items_add=frozenset({'Juice'}), confidence=0.6, lift=1.0)])\n",
            "RelationRecord(items=frozenset({'Milk'}), support=0.6, ordered_statistics=[OrderedStatistic(items_base=frozenset(), items_add=frozenset({'Milk'}), confidence=0.6, lift=1.0)])\n",
            "RelationRecord(items=frozenset({'Butter', 'Bread'}), support=0.4, ordered_statistics=[OrderedStatistic(items_base=frozenset(), items_add=frozenset({'Butter', 'Bread'}), confidence=0.4, lift=1.0)])\n",
            "RelationRecord(items=frozenset({'Bread', 'Eggs'}), support=0.4, ordered_statistics=[OrderedStatistic(items_base=frozenset(), items_add=frozenset({'Bread', 'Eggs'}), confidence=0.4, lift=1.0), OrderedStatistic(items_base=frozenset({'Bread'}), items_add=frozenset({'Eggs'}), confidence=0.5, lift=1.25), OrderedStatistic(items_base=frozenset({'Eggs'}), items_add=frozenset({'Bread'}), confidence=1.0, lift=1.25)])\n",
            "RelationRecord(items=frozenset({'Bread', 'Juice'}), support=0.4, ordered_statistics=[OrderedStatistic(items_base=frozenset(), items_add=frozenset({'Bread', 'Juice'}), confidence=0.4, lift=1.0)])\n",
            "RelationRecord(items=frozenset({'Milk', 'Bread'}), support=0.4, ordered_statistics=[OrderedStatistic(items_base=frozenset(), items_add=frozenset({'Milk', 'Bread'}), confidence=0.4, lift=1.0)])\n",
            "RelationRecord(items=frozenset({'Butter', 'Juice'}), support=0.4, ordered_statistics=[OrderedStatistic(items_base=frozenset(), items_add=frozenset({'Butter', 'Juice'}), confidence=0.4, lift=1.0), OrderedStatistic(items_base=frozenset({'Butter'}), items_add=frozenset({'Juice'}), confidence=0.6666666666666667, lift=1.1111111111111114), OrderedStatistic(items_base=frozenset({'Juice'}), items_add=frozenset({'Butter'}), confidence=0.6666666666666667, lift=1.1111111111111114)])\n",
            "RelationRecord(items=frozenset({'Milk', 'Butter'}), support=0.4, ordered_statistics=[OrderedStatistic(items_base=frozenset(), items_add=frozenset({'Milk', 'Butter'}), confidence=0.4, lift=1.0), OrderedStatistic(items_base=frozenset({'Butter'}), items_add=frozenset({'Milk'}), confidence=0.6666666666666667, lift=1.1111111111111114), OrderedStatistic(items_base=frozenset({'Milk'}), items_add=frozenset({'Butter'}), confidence=0.6666666666666667, lift=1.1111111111111114)])\n",
            "RelationRecord(items=frozenset({'Milk', 'Eggs'}), support=0.4, ordered_statistics=[OrderedStatistic(items_base=frozenset(), items_add=frozenset({'Milk', 'Eggs'}), confidence=0.4, lift=1.0), OrderedStatistic(items_base=frozenset({'Eggs'}), items_add=frozenset({'Milk'}), confidence=1.0, lift=1.6666666666666667), OrderedStatistic(items_base=frozenset({'Milk'}), items_add=frozenset({'Eggs'}), confidence=0.6666666666666667, lift=1.6666666666666667)])\n"
          ]
        }
      ]
    },
    {
      "cell_type": "markdown",
      "source": [
        "# Conclusion"
      ],
      "metadata": {
        "id": "w2pGCj04znFy"
      }
    },
    {
      "cell_type": "markdown",
      "source": [
        "Recommended Item Set : {'Milk', 'Eggs'}), support=0.4\n",
        "\n",
        "\n",
        "When {'Eggs'} was bought and the {'Milk'} also bought with  confidence=1.0, lift=1.6666666666666667\n",
        "\n",
        "\n",
        "When {'Milk'} was bought and the {'Eggs'} also bought with  0.6666666666666667, lift=1.6666666666666667"
      ],
      "metadata": {
        "id": "8znc1PSWzxa1"
      }
    }
  ]
}